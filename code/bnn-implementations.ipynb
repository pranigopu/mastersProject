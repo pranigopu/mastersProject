{
 "cells": [
  {
   "cell_type": "markdown",
   "id": "3357a020-d407-4b23-9fce-a26dd2b8f6de",
   "metadata": {},
   "source": [
    "# BNN IMPLEMENTATIONS\n",
    "- Hamiltonian Monte Carlo (HMC)\n",
    "- Variational Inference (VI)\n",
    "    - Monte Carlo Dropout\n",
    "    - Bayes-by-Backprop"
   ]
  },
  {
   "cell_type": "code",
   "execution_count": null,
   "id": "bc238992-969a-4b69-85ea-76ed5d2e183d",
   "metadata": {},
   "outputs": [],
   "source": []
  }
 ],
 "metadata": {
  "kernelspec": {
   "display_name": "Python 3 (ipykernel)",
   "language": "python",
   "name": "python3"
  },
  "language_info": {
   "codemirror_mode": {
    "name": "ipython",
    "version": 3
   },
   "file_extension": ".py",
   "mimetype": "text/x-python",
   "name": "python",
   "nbconvert_exporter": "python",
   "pygments_lexer": "ipython3",
   "version": "3.11.9"
  }
 },
 "nbformat": 4,
 "nbformat_minor": 5
}

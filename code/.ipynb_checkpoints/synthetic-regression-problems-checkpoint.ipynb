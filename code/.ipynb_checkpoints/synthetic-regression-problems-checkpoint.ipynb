{
 "cells": [
  {
   "cell_type": "markdown",
   "id": "2ac7f1a4-bc68-457b-ae33-5c5cb2ce96db",
   "metadata": {},
   "source": [
    "# SYNTHETIC REGRESSION PROBLEMS"
   ]
  },
  {
   "cell_type": "code",
   "execution_count": null,
   "id": "71c530ac-aee5-464f-b4eb-e1846c1fbf29",
   "metadata": {},
   "outputs": [],
   "source": []
  }
 ],
 "metadata": {
  "kernelspec": {
   "display_name": "Python 3 (ipykernel)",
   "language": "python",
   "name": "python3"
  },
  "language_info": {
   "codemirror_mode": {
    "name": "ipython",
    "version": 3
   },
   "file_extension": ".py",
   "mimetype": "text/x-python",
   "name": "python",
   "nbconvert_exporter": "python",
   "pygments_lexer": "ipython3",
   "version": "3.11.9"
  }
 },
 "nbformat": 4,
 "nbformat_minor": 5
}

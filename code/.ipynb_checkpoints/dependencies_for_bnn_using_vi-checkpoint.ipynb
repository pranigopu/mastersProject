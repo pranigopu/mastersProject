{
 "cells": [
  {
   "cell_type": "markdown",
   "id": "1cdfd93e-0f81-4649-915a-423ccf97d825",
   "metadata": {},
   "source": [
    "# DEPENDENCIES FOR BNN USING VI\n",
    "**Abbreviations**:\n",
    "\n",
    "- ANN: Artificial Neural Network\n",
    "- BNN: Bayesian Neural Network\n",
    "- VI: Variational inference"
   ]
  },
  {
   "cell_type": "markdown",
   "id": "3ae2c812-144e-4cd7-b6bd-e4287cf6aae4",
   "metadata": {},
   "source": [
    "# Necessary Imports"
   ]
  },
  {
   "cell_type": "code",
   "execution_count": 1,
   "id": "4f865666-4e99-4d62-9f0f-228c08c944c1",
   "metadata": {},
   "outputs": [
    {
     "name": "stdout",
     "output_type": "stream",
     "text": [
      "importing Jupyter notebook from .\\dependencies_for_data_generation.ipynb\n"
     ]
    }
   ],
   "source": [
    "import numpy as np\n",
    "import torch\n",
    "import torch.nn as nn\n",
    "import torch.optim as optim\n",
    "import torchbnn as bnn\n",
    "import matplotlib.pyplot as plt\n",
    "\n",
    "# Loading the predefined synthetic regression problems:\n",
    "if __name__ == '__main__':\n",
    "    import import_ipynb\n",
    "    N = import_ipynb.NotebookLoader(path=['.'])\n",
    "    N.load_module('dependencies_for_data_generation')\n",
    "    from dependencies_for_data_generation import *"
   ]
  },
  {
   "cell_type": "markdown",
   "id": "0364ee13-851d-401c-921b-6126d93295af",
   "metadata": {},
   "source": [
    "# Globally Available Data"
   ]
  },
  {
   "cell_type": "code",
   "execution_count": 2,
   "id": "9b37130e-cd81-4cb2-83ac-a59e8a92e715",
   "metadata": {},
   "outputs": [
    {
     "data": {
      "image/png": "[encoded data removed]",
      "text/plain": [
       "<Figure size 800x400 with 2 Axes>"
      ]
     },
     "metadata": {},
     "output_type": "display_data"
    }
   ],
   "source": [
    "# Initialising data variables by generating a synthetic problem's data:\n",
    "x_train, y_train, x_test, y_test = None, None, None, None\n",
    "if __name__ == '__main__':\n",
    "    x_train, y_train, x_test, y_test = generate_data('A')"
   ]
  },
  {
   "cell_type": "markdown",
   "id": "06ed26a5-fe2f-4cdd-9160-216b510ac8c3",
   "metadata": {},
   "source": [
    "# Defining the Bayesian Model and Loss Functions"
   ]
  },
  {
   "cell_type": "code",
   "execution_count": 6,
   "id": "9b518215-7327-42d4-b50b-e707562e16cd",
   "metadata": {},
   "outputs": [],
   "source": [
    "class BNN:\n",
    "    def __init__(self, prior_mu=0, prior_sigma=1, bayesian_layers='input, hidden, output', lr=0.01):\n",
    "        # Storing certain parameters: for future reference:\n",
    "        self.lr = lr\n",
    "        self.prior_mu = prior_mu\n",
    "        self.prior_sigma = prior_sigma\n",
    "        self.bayesian_layers = bayesian_layers\n",
    "\n",
    "        #------------------------------------\n",
    "        # Building the model:\n",
    "        input_layer, hidden_layer, output_layer = self.get_layers()\n",
    "        self.model = nn.Sequential(input_layer, nn.ReLU(), hidden_layer, nn.ReLU(), output_layer)\n",
    "    \n",
    "        #------------------------------------\n",
    "        # Defining the loss function and optimiser:\n",
    "        \n",
    "        # 1. Initialising MSE part of the loss function:\n",
    "        self.mse_loss = nn.MSELoss()\n",
    "        \n",
    "        # 2. Initialising the KL divergence part of the loss function:\n",
    "        self.kl_loss = bnn.BKLLoss(reduction='mean', last_layer_only=False)\n",
    "        self.kl_weight = 0.01 # The weight given to the KL divergence part of the loss function\n",
    "        \n",
    "        # 3. Initialising the optimiser used for gradient descent:\n",
    "        self.optimizer = optim.Adam(self.model.parameters(), lr=lr)\n",
    "\n",
    "    #================================================\n",
    "    # OBTAINING MODEL LAYERS AS SPECIFIED\n",
    "    \n",
    "    def get_layers(self):\n",
    "        # Determining the input and output layers as Bayesian or non-Bayesian:\n",
    "        if 'input' in self.bayesian_layers:\n",
    "            input_layer = bnn.BayesLinear(prior_mu=self.prior_mu, prior_sigma=self.prior_sigma, in_features=1, out_features=50)\n",
    "        else:\n",
    "            input_layer = nn.Linear(in_features=1, out_features=50, bias=True)\n",
    "        if 'hidden' in self.bayesian_layers:\n",
    "            hidden_layer = bnn.BayesLinear(prior_mu=self.prior_mu, prior_sigma=self.prior_sigma, in_features=50, out_features=50)\n",
    "        else:\n",
    "            hidden_layer = nn.Linear(in_features=50, out_features=50, bias=True)\n",
    "        if 'output' in self.bayesian_layers:\n",
    "            output_layer = bnn.BayesLinear(prior_mu=self.prior_mu, prior_sigma=self.prior_sigma, in_features=50, out_features=1)\n",
    "        else:\n",
    "            output_layer = nn.Linear(in_features=50, out_features=1, bias=True)\n",
    "\n",
    "        return input_layer, hidden_layer, output_layer\n",
    "    \n",
    "    #================================================\n",
    "    # WRAPPER FOR THE MODEL'S FORWARD FUNCTION\n",
    "\n",
    "    def predict(self, x):\n",
    "        # If data is in NumPy array form, convert to PyTorch tensors:\n",
    "        if isinstance(x, np.ndarray): x = torch.tensor(x)\n",
    "        return self.model(x).detach().numpy() # Returning as a NumPy array for convenience\n",
    "        '''NOTE: Use of `.detach`:\n",
    "        `.detach` is used because the return value of `self.model(x)` is a tensor that requires grad,\n",
    "        and such a tensor cannot be converted to a NumPy array using `.numpy`.\n",
    "        However, using `.detach` creates another tensor with the same values but which does not require grad.\n",
    "        '''\n",
    "    \n",
    "    #================================================\n",
    "    # TRAINING LOOP\n",
    "    \n",
    "    def enhanced_fit(self, x, y, epochs=30, batch_size=2, num_reinitializations=1, problem_id=None):\n",
    "        # NOTE: `problem_id` helps name the files of the stored model weights\n",
    "        \n",
    "        # If data is in NumPy array form, convert to PyTorch tensors:\n",
    "        if isinstance(x, np.ndarray): x = torch.tensor(x)\n",
    "        if isinstance(y, np.ndarray): y = torch.tensor(y)\n",
    "\n",
    "        #------------------------------------\n",
    "        # Initialising data loader to enable batch training:\n",
    "        data = list(zip(x, y))\n",
    "        data_loader = torch.utils.data.DataLoader(data, batch_size=batch_size, shuffle=False)\n",
    "\n",
    "        #------------------------------------\n",
    "        best_model, best_model_cost = self.model, float('inf')\n",
    "        for i in range(num_reinitializations):\n",
    "            min_avg_cost = float('inf')\n",
    "            #________________________\n",
    "            # Training loop:\n",
    "            for epoch in range(epochs):\n",
    "                avg_cost = 0\n",
    "                # Per-epoch training loop:\n",
    "                #............\n",
    "                for data in data_loader:\n",
    "                    x_batch, y_batch = data\n",
    "                    \n",
    "                    # Obtaining the model's predicted values for the inputs:\n",
    "                    prediction = self.model(x_batch)\n",
    "                \n",
    "                    # Calculating the loss function:\n",
    "                    mse = self.mse_loss(prediction, y_batch)\n",
    "                    kl = self.kl_loss(self.model)\n",
    "                    cost = mse + self.kl_weight*kl\n",
    "                    avg_cost += float(cost)\n",
    "                    \n",
    "                    # Optimisation step:\n",
    "                    self.optimizer.zero_grad() # Resetting the optimiser's gradients\n",
    "                    cost.backward() # Calculating the gradients for backpropagation\n",
    "                    self.optimizer.step() # Applying the gradients for backpropagation\n",
    "                #............\n",
    "                # If the last epoch's average cost were lower than the minimum so far, save the weights of the model so far:\n",
    "                if avg_cost < min_avg_cost:\n",
    "                    min_avg_cost = avg_cost\n",
    "                    torch.save({'model_state_dict': self.model.state_dict()}, f'storage/vi_bnn--problem_{problem_id}--weights.pth')\n",
    "            #________________________\n",
    "            # Assign the best performing model weights (as decided with respect to average cost):\n",
    "            if min_avg_cost < best_model_cost:\n",
    "                best_model_cost = min_avg_cost\n",
    "                best_model.load_state_dict(torch.load(f'storage/vi_bnn--problem_{problem_id}--weights.pth')['model_state_dict'])\n",
    "            #________________________\n",
    "            # Reinitialising the model for the next run:\n",
    "            input_layer, hidden_layer, output_layer = self.get_layers()\n",
    "            self.model = nn.Sequential(input_layer, nn.ReLU(), hidden_layer, nn.ReLU(), output_layer)\n",
    "            # Defining the loss function and optimiser:\n",
    "            self.mse_loss = nn.MSELoss()\n",
    "            self.kl_loss = bnn.BKLLoss(reduction='mean', last_layer_only=False)\n",
    "            self.optimizer = optim.Adam(self.model.parameters(), lr=self.lr)\n",
    "        \n",
    "        #------------------------------------\n",
    "        # Assigning `best_model` to `self.model`:\n",
    "        self.model = best_model"
   ]
  },
  {
   "cell_type": "markdown",
   "id": "06e799fd-274c-484e-bfc7-09ffa66781a4",
   "metadata": {},
   "source": [
    "> **Reference**:\n",
    "> \n",
    "> - [_Save your Model’s weights_ (PyTorch) by \n",
    "Mohit Dulani ffrom**Medium.com**](https://medium.com/@mohitdulani/save-your-models-weights-ee457d368637)\n",
    "> - [_Training a PyTorch Model with DataLoader and Dataset_ by Adrian Tam from **MachineLearningMastery.com**](https://machinelearningmastery.com/training-a-pytorch-model-with-dataloader-and-dataset/) "
   ]
  },
  {
   "cell_type": "markdown",
   "id": "92680e37-4066-4557-9b46-794da7fdde11",
   "metadata": {},
   "source": [
    "# Training BNN and Presenting the Results"
   ]
  },
  {
   "cell_type": "code",
   "execution_count": null,
   "id": "8a11eccc-9fd1-4477-8a26-76834fe366f8",
   "metadata": {},
   "outputs": [],
   "source": [
    "vi_bnn = BNN(bayesian_layers='hidden')\n",
    "if __name__ == '__main__':\n",
    "    vi_bnn.enhanced_fit(x_train, y_train, epochs=30)"
   ]
  },
  {
   "cell_type": "markdown",
   "id": "7da5f587-0bf3-481d-80ab-29646a5f87b7",
   "metadata": {},
   "source": [
    "Plotting the results (plotting functions packaged as a function for reusability)..."
   ]
  },
  {
   "cell_type": "code",
   "execution_count": null,
   "id": "6a0bce21-29f8-406d-b08c-db374991d2f6",
   "metadata": {},
   "outputs": [],
   "source": [
    "def plot_vi_results(vi_bnn, x_train, y_train, x_test, y_test, samples_to_show=3, show_suptitle=True):\n",
    "    fig, axs = plt.subplots(1, 2, constrained_layout=True, figsize=(8, 4))\n",
    "    min_x = min(min(x_train), min(x_test))\n",
    "    max_x = max(max(x_train), max(x_test))\n",
    "    x = np.linspace(min_x, max_x, 100)\n",
    "    y_predictions = []\n",
    "    \n",
    "    #------------------------------------\n",
    "    # Plotting the training data:\n",
    "    axs[0].scatter(x_train, y_train, s=2, label='Train Data')\n",
    "    for i in range(samples_to_show):\n",
    "        y_predictions.append(vi_bnn.predict(x))\n",
    "        # NOTE 1: The above stores the prediction for the model parametrisations\n",
    "        # NOTE 2: This helps compare the training and test performance for the same model parametrisations\n",
    "        axs[0].plot(x, y_predictions[-1], linewidth=2)\n",
    "    # Final formatting for the plot:\n",
    "    axs[0].set_title('For Training Data')\n",
    "    axs[0].set_xlabel('x')\n",
    "    axs[0].set_ylabel('y')\n",
    "\n",
    "    #------------------------------------\n",
    "    # Plotting the test data:\n",
    "    plt.scatter(x_test, y_test, s=2, label='Test Data') \n",
    "    for y_prediction in y_predictions:\n",
    "        plt.plot(x, y_prediction, linewidth=2)\n",
    "    # Final formatting for the plot:\n",
    "    axs[1].set_title('For Test Data')\n",
    "    axs[1].set_xlabel('x')\n",
    "    axs[1].set_ylabel('y')\n",
    "\n",
    "    #------------------------------------\n",
    "    if show_suptitle:\n",
    "        plt.suptitle('Multiple Predictions of the VI BNN')\n",
    "    plt.show()\n",
    "\n",
    "if __name__ == '__main__':\n",
    "    plot_vi_results(vi_bnn, x_train, y_train, x_test, y_test, samples_to_show=10)"
   ]
  }
 ],
 "metadata": {
  "kernelspec": {
   "display_name": "Python 3 (ipykernel)",
   "language": "python",
   "name": "python3"
  },
  "language_info": {
   "codemirror_mode": {
    "name": "ipython",
    "version": 3
   },
   "file_extension": ".py",
   "mimetype": "text/x-python",
   "name": "python",
   "nbconvert_exporter": "python",
   "pygments_lexer": "ipython3",
   "version": "3.11.9"
  }
 },
 "nbformat": 4,
 "nbformat_minor": 5
}

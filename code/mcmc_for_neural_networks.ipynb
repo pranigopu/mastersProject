{
 "cells": [
  {
   "cell_type": "markdown",
   "id": "9ee8fb5f-ddd4-414d-b26f-4b80a959531b",
   "metadata": {},
   "source": [
    "<h1>MCMC FOR NEURAL NETWORKS</h1>\n",
    "\n",
    "**Key references**:\n",
    "\n",
    "- _Bayesian neural networks via MCMC: a Python-based tutorial_ by Rohitash Chandra and Joshua Simmons\n",
    "    - **Paper**: https://arxiv.org/pdf/2304.02595\n",
    "    - **Web page**: https://ar5iv.labs.arxiv.org/html/2304.02595\n",
    "    - **GitHub repository**: https://github.com/sydney-machine-learning/Bayesianneuralnetworks-MCMC-tutorial\n",
    "- [_Metropolis-Hastings (MH)_ from **Markov Chain Monte Carlo (MCMC)** from **Sampling Methods** from **Bayesian Inference** from `conceptual-notes`](https://github.com/pranigopu/mastersProject/blob/main/conceptual-notes/bayesian-inference/sampling-methods/markov-chain-monte-carlo/metropolis-hastings-mh.md) (theoretical reference)\n",
    "\n",
    "---\n",
    "\n",
    "**Topics discussed**:\n",
    "\n",
    "1. [Practical Introduction to MCMC](#1.-Practical-Introduction-to-MCMC)\n",
    "    - Introduces MCMC as a sampling method using a simple example wherein the posterior has only one parameter\n",
    "    - Uses the Metropolis-Hastings algorithm as it is the most straighforward MCMC algorithm\n",
    "    - Helps give a basic idea about how MCMC would be implemented\n",
    "2. [Applying MCMC to a Linear Model](#2.-Applying-MCMC-to-a-Linear-Model)\n",
    "    - Introduces MCMC for a multi-parameter linear model\n",
    "    - Bridges the gap between MCMC as a sampling method and MCMC as applied to neural networks\n",
    "  \n",
    "---\n",
    "\n",
    "\n",
    "**Theoretical notation**:\n",
    "\n",
    "- $P$, denoting the probability measure\n",
    "- $\\theta$, the model parameter, i.e. the parameter for the generalised model used\n",
    "- $D$, the observations of the real-life process being modelled\n",
    "- $p = P(\\theta|D)$, the target distribution, i.e. the posterior distribution\n",
    "- $P(D|\\theta)$, the likelihood\n",
    "- $P(\\theta)$, the prior\n",
    "\n",
    "---"
   ]
  },
  {
   "cell_type": "markdown",
   "id": "fc4c842e-387a-4991-b307-71030bb4a86f",
   "metadata": {},
   "source": [
    "# 1. Practical Introduction to MCMC\n",
    "> **Key practical reference**: [`Bayesianneuralnetworks-MCMC-tutorial` / `02-Basic-MCMC.ipynb`](https://github.com/sydney-machine-learning/Bayesianneuralnetworks-MCMC-tutorial/blob/main/02-Basic-MCMC.ipynb)\n",
    "\n",
    "---\n",
    "\n",
    "**NOTE**: _To introduce MCMC, we shall use the Metropolis-Hastings algorithm, which is the most straighforward MCMC algorithm._\n",
    "\n",
    "---\n",
    "\n",
    "## Problem statement\n",
    "**General problem statement**:\n",
    "\n",
    "Sampling the posterior of a single parameter (we shall call it the \"model parameter\").\n",
    "\n",
    "**Specific problem statement**:\n",
    "\n",
    "Obtain information about the probability of success $\\theta$ (which is our model parameter) given some data of $k$ successes in $n$ trials using an uninformative prior (e.g. a uniform distribution, i.e. before making observations, we assume that $\\theta$ is uniformly distributed). Here, the outcomes of the real-life process being modelled are distributed by a binomial distribution with some probability of success, which is our target distribution. Note that $\\theta$ is the probability of success of our model, and we try to find the target distribution by making our model as similar as possible to the real-life process. In other words, we shall solve for the posterior distribution of parameter $\\theta$, and thereby find (or at least estimate) the target distribution.\n",
    "\n",
    "**NOTE**: $\\theta$ _is the model's <u>probability</u> of success, which means its uniform prior must be_ $\\text{Uniform}([0, 1])$."
   ]
  },
  {
   "cell_type": "markdown",
   "id": "bfd6e41c-80e3-4d83-9b33-a1b0c18d8d23",
   "metadata": {},
   "source": [
    "## Necessary imports"
   ]
  },
  {
   "cell_type": "code",
   "execution_count": 1,
   "id": "466bd0f7-ae1d-497c-ad44-34449aae7d34",
   "metadata": {},
   "outputs": [],
   "source": [
    "import numpy as np\n",
    "from numpy import random\n",
    "from tqdm import tqdm # NOTE: `tqdm` is just used to display the progress bar when looping over iterables\n",
    "from scipy import stats\n",
    "import seaborn as sns\n",
    "import matplotlib.pyplot as plt"
   ]
  },
  {
   "cell_type": "markdown",
   "id": "e81ea667-5d8b-41b4-8b27-0f251aed4eca",
   "metadata": {},
   "source": [
    "## Defining the likelihood\n",
    "By Bayes' rule, we know that:\n",
    "\n",
    "$p = P(\\theta|D) \\propto P(D|\\theta) P(\\theta)$\n",
    "\n",
    "Our prior has already been defined as $\\text{Uniform}([0, 1])$ (see the previous sections).\n",
    "\n",
    "---\n",
    "\n",
    "Hence, we need to define the likelihood function given our data $(k, n)$. How? Firstly, we know it must be a binomial distribution, since the likelihood is the probability that our model would generate the outcomes $D$ (generated by the real-life process), given that the model parametrised by $\\theta$. Hence, the likelihood function is a function that inputs $k$ (the number of successes), $n$ (the number of trials) and $\\theta$ (the probability of success) and outputs the probability mass of $(k, n)$ under $\\text{Binomial}(\\theta)$, i.e. the binomial distribution parametrised by $\\theta$."
   ]
  },
  {
   "cell_type": "code",
   "execution_count": 2,
   "id": "835563c6-bf14-4c42-b906-f080138ca728",
   "metadata": {},
   "outputs": [],
   "source": [
    "# First define our likelihood function which will be dependent on provided `data`\n",
    "likelihood_function = lambda k, n, θ: stats.binom.pmf(k, n, θ)"
   ]
  },
  {
   "cell_type": "markdown",
   "id": "94cc5e08-2956-46d5-a15b-87a22df7a0f2",
   "metadata": {},
   "source": [
    "## Setting up MCMC"
   ]
  },
  {
   "cell_type": "code",
   "execution_count": 3,
   "id": "d9403390-47d3-4584-9e37-ab0594933279",
   "metadata": {},
   "outputs": [],
   "source": [
    "# Basic MCMC parameters:\n",
    "n_samples = 10000 # number of samples to draw from the posterior\n",
    "burn_in = 2500 # number of samples to discard before recording draws from the posterior\n",
    "\n",
    "# Specifying the data, ensuring k <= n:\n",
    "binom_k = 50 # Number of successes\n",
    "binom_n = 100 # Number of trials\n",
    "\n",
    "# Initial parameter value from which to start sampling (drawn from the prior):\n",
    "θ_current = random.uniform(0, 1)\n",
    "\n",
    "# Variable to keep track of the number of accepted samples:\n",
    "n_accepted_samplesed_samples = 0\n",
    "\n",
    "# Create an array of NaNs to fill with our samples:\n",
    "p_posterior = np.full(n_samples, np.nan) "
   ]
  },
  {
   "cell_type": "markdown",
   "id": "b1c62bbf-b6b5-4a9b-9bed-0902c7bd6104",
   "metadata": {},
   "source": [
    "## Running MCMC\n",
    "Now, we shall create the MCMC loop and sample the posterior distribution. Note that:\n",
    "\n",
    "- We use an uinformative uniform prior $\\text{Uniform}([0, 1])$, where $P(\\theta) = 1$ if and only if $\\theta \\in [0, 1]$\n",
    "- We shall also use the same distribution, i.e. $\\text{Uniform}([0, 1])$ as the sampling distribution\n",
    "\n",
    "---\n",
    "\n",
    "Now, note that the Metropolis-Hastings acceptance probability is given by the following:\n",
    "\n",
    "$A(a \\rightarrow b) = \\max(1, \\frac{f(a)}{f(b)} \\frac{g(a|b)}{g(b|a)})$\n",
    "\n",
    "- $f$ as the target distribution's numerator, namely $P(D|\\theta) P(\\theta)$ in our case\n",
    "- $g$ as the sampling probability, namely $\\text{Uniform}([0, 1])$ in our case\n",
    "- $a$ is the current sample\n",
    "- $b$ is the proposed sample\n",
    "\n",
    "> **Reference**: [_Metropolis-Hastings (MH)_ from **Markov Chain Monte Carlo (MCMC)** from **Sampling Methods** from **Bayesian Inference** from `conceptual-notes`](https://github.com/pranigopu/mastersProject/blob/main/conceptual-notes/bayesian-inference/sampling-methods/markov-chain-monte-carlo/metropolis-hastings-mh.md)\n",
    "\n",
    "---\n",
    "\n",
    "Hence, in our case:\n",
    "\n",
    "$A(\\theta \\rightarrow \\theta')$\n",
    "\n",
    "$= \\max(1, \\frac{P(D|\\theta) P(\\theta)}{P(D|\\theta') P(\\theta')} \\times \\frac{\\text{Uniform}([0, 1])(\\theta|\\theta')}{\\text{Uniform}([0, 1])(\\theta'|\\theta)})$\n",
    "\n",
    "$= \\max(1, \\frac{P(D|\\theta) \\text{Uniform}([0, 1])(\\theta)}{P(D|\\theta') \\text{Uniform}([0, 1])(\\theta')} \\times \\frac{1}{1})$\n",
    "\n",
    "$= \\max(1, \\frac{P(D|\\theta) \\times 1}{P(D|\\theta') \\times 1})$ (because the sampling distribution $\\text{Uniform}([0, 1])$ ensures that $\\theta \\in [0, 1]$ and $\\theta' \\in [0, 1]$)\n",
    "\n",
    "$= \\max(1, \\frac{P(D|\\theta) \\times 1}{P(D|\\theta')})$\n",
    "\n",
    "---\n",
    "\n",
    "Therefore, in our case, we only need to compare the likelihood of the proposed and current samples."
   ]
  },
  {
   "cell_type": "code",
   "execution_count": 4,
   "id": "7e80872c-641c-416f-bf36-b5a0ac27cbe3",
   "metadata": {},
   "outputs": [
    {
     "name": "stdout",
     "output_type": "stream",
     "text": [
      "Generating 10000 MCMC samples from the posterior:\n"
     ]
    },
    {
     "name": "stderr",
     "output_type": "stream",
     "text": [
      "100%|███████████████████████████████████████████████████████| 10000/10000 [00:01<00:00, 5863.48it/s]\n"
     ]
    }
   ],
   "source": [
    "print('Generating {} MCMC samples from the posterior:'.format(n_samples))\n",
    "for i in tqdm(np.arange(n_samples), ncols=100):\n",
    "    # Sample a value uniformly from 0 to 1 as a proposal:\n",
    "    θ_proposed = random.uniform(0, 1)\n",
    "\n",
    "    # Calculate the Metropolis-Hastings acceptance probability α based on the prior:\n",
    "    prior_ratio = 1 # The contribution of prior to acceptance probability in this problem; reasoning is given above\n",
    "    likelihood_ratio = likelihood_function(binom_k, binom_n, θ_proposed) / likelihood_function(binom_k, binom_n, θ_current)\n",
    "    α = np.min([1, likelihood_ratio * prior_ratio]) # Acceptance probability\n",
    "\n",
    "    # Probabilistically accepting the proposal:\n",
    "    if random.uniform(0, 1) < α: # Simulates the probability of acceptance as α\n",
    "        θ_current = θ_proposed # then update the current sample to the propoal for the next iteration\n",
    "        n_accepted_samplesed_samples += 1 # add to the count of accepted samples\n",
    "\n",
    "    # Store the current sample\n",
    "    p_posterior[i] = θ_current"
   ]
  },
  {
   "cell_type": "markdown",
   "id": "1178141e-633d-4e1a-8f44-31a81f6f2a32",
   "metadata": {},
   "source": [
    "## Presenting the results"
   ]
  },
  {
   "cell_type": "markdown",
   "id": "645be34c-3c73-4d21-863f-71bbb400ce82",
   "metadata": {},
   "source": [
    "### Printing the results"
   ]
  },
  {
   "cell_type": "code",
   "execution_count": 5,
   "id": "30c1ccac-98a9-4878-98ef-63537a6273aa",
   "metadata": {},
   "outputs": [
    {
     "name": "stdout",
     "output_type": "stream",
     "text": [
      "Number of accepted samples: 16.060 %\n",
      "Mean value of the estimated posterior (excluding burn-in): 0.499\n"
     ]
    }
   ],
   "source": [
    "per_accept = (n_accepted_samplesed_samples/n_samples)*100\n",
    "print(f'Number of accepted samples: {per_accept:.3f} %')\n",
    "posterior_mean = np.mean(p_posterior[burn_in:])\n",
    "print(f'Mean value of the estimated posterior (excluding burn-in): {posterior_mean:.3f}')"
   ]
  },
  {
   "cell_type": "markdown",
   "id": "8006bfcb-59a8-4645-834c-55473f176f92",
   "metadata": {},
   "source": [
    "### Plotting the posterior\n",
    "> **Reference**: [`BreadcrumbsBayesianneuralnetworks-MCMC-tutorial` / `functions` / `visualisations.py`](https://github.com/sydney-machine-learning/Bayesianneuralnetworks-MCMC-tutorial/blob/main/functions/visualisations.py)\n",
    "\n",
    "---\n",
    "\n",
    "**NOTE**: _I am writing out and simplifying the functions given in the above reference for my own clarity; in later sections I shall simply import._"
   ]
  },
  {
   "cell_type": "code",
   "execution_count": 6,
   "id": "2bb849d2-9bc7-4276-bbd8-e29591fccfc8",
   "metadata": {},
   "outputs": [
    {
     "data": {
      "image/png": "[encoded data removed]",
      "text/plain": [
       "<Figure size 1000x400 with 2 Axes>"
      ]
     },
     "metadata": {},
     "output_type": "display_data"
    }
   ],
   "source": [
    "# DATA SETUP\n",
    "\n",
    "# Defining the points to be plotted:\n",
    "pos_points = p_posterior # Estimated posterior\n",
    "true_posterior = np.vstack([np.linspace(0,1,1000), likelihood_function(binom_k, binom_n, np.linspace(0,1,1000))]).T # True posterior\n",
    "\n",
    "# Remove burn-in samples, if any:\n",
    "if not burn_in is None:\n",
    "    plot_points = pos_points[burn_in:, ...]\n",
    "else:\n",
    "    plot_points = pos_points\n",
    "\n",
    "#================================================\n",
    "# PLOTTING\n",
    "\n",
    "# Setting the plot size and font size:\n",
    "fontsize = 15\n",
    "fig = plt.figure(figsize=(10, 4))\n",
    "\n",
    "# Plotting the estimated, i.e. sampled posterior:\n",
    "ax1 = fig.add_subplot(111)\n",
    "ax1.hist(plot_points,  bins = 20, color='C0', alpha=0.7, label='Sampled Posterior')\n",
    "ax1.set_xlim(ax1.get_xlim())\n",
    "\n",
    "# Plotting the true posterior:\n",
    "ax2 = ax1.twinx()\n",
    "ax2.grid(False)\n",
    "ax2.plot(true_posterior[:,0], true_posterior[:,1], linewidth=2, color='C1', label='True Posterior')\n",
    "ax2.set_ylim(0, ax2.get_ylim()[1])\n",
    "ax2.set_ylabel('Density', fontsize = fontsize)\n",
    "\n",
    "# Final plot display:\n",
    "ax1.set_ylabel('Frequency', fontsize = fontsize, labelpad=10)\n",
    "ax1.set_xlabel('Parameter value', fontsize = fontsize, labelpad=10)\n",
    "ax1.set_title('Posterior', fontsize = fontsize, pad=10)\n",
    "lgd = plt.legend(bbox_to_anchor=(1.25,0.5), loc='center left')\n",
    "fig.tight_layout()\n",
    "plt.show()"
   ]
  },
  {
   "cell_type": "markdown",
   "id": "0311068b-b082-410d-9bdb-a781e4b01e59",
   "metadata": {},
   "source": [
    "### Plotting the sample values across sampling iterations"
   ]
  },
  {
   "cell_type": "code",
   "execution_count": 8,
   "id": "f5b81c49-04d1-49ce-b908-900bfb28abb7",
   "metadata": {},
   "outputs": [
    {
     "data": {
      "image/png": "[encoded data removed]",
      "text/plain": [
       "<Figure size 1000x400 with 1 Axes>"
      ]
     },
     "metadata": {},
     "output_type": "display_data"
    }
   ],
   "source": [
    "# Setting up the plot:\n",
    "fig = plt.figure(figsize=(10, 4))\n",
    "ax1 = fig.add_subplot(111)\n",
    "\n",
    "# Identify and separate burn-in samples, if any:\n",
    "if not burn_in is None:\n",
    "    ax1.plot(np.arange(burn_in), pos_points[:burn_in], color='C3',label='Burn-in trace')\n",
    "    ax1.plot(np.arange(burn_in,pos_points.shape[0]), pos_points[burn_in:], color='C0',label='Posterior trace')\n",
    "else:\n",
    "    ax1.plot(pos_points,label='Posterior trace')\n",
    "\n",
    "# Plot burn-in and trace samples:\n",
    "lgd = plt.legend(loc='center left',bbox_to_anchor=(1.025,0.5))\n",
    "plt.title(\"Parameter trace plot\", fontsize = fontsize, pad=10)\n",
    "plt.xlabel(' Number of Samples  ', fontsize = fontsize, labelpad=10)\n",
    "plt.ylabel(' Parameter value ', fontsize = fontsize, labelpad=10)\n",
    "plt.tight_layout()\n",
    "plt.show()"
   ]
  },
  {
   "cell_type": "markdown",
   "id": "c31d4a3d-a8d4-418f-bb46-0548567332e8",
   "metadata": {},
   "source": [
    "# 2. Applying MCMC to a Linear Model\n",
    "> **Key practical reference**: [`Bayesianneuralnetworks-MCMC-tutorial` / `03-Linear-Model.ipynb`](https://github.com/sydney-machine-learning/Bayesianneuralnetworks-MCMC-tutorial/blob/main/03-Linear-Model.ipynb)"
   ]
  },
  {
   "cell_type": "markdown",
   "id": "e83cda5c-627d-4d0f-bd5a-ca7aa633e033",
   "metadata": {},
   "source": [
    "## Problem statement\n",
    "Here, we are dealing with a problem of the following form:\n",
    "\n",
    "- Vector of input values $x$ (each element belonging to a particular independent variable)\n",
    "- Target value $y$ (belonging to a dependent variable defined in terms of $x$)\n",
    "- A linear function $f$ defined on $x$ with weights and biases stored in parameter vector $\\theta$, such that $y \\approx f(x, \\theta)$\n",
    "- An random error term to account for the fact that $f(x, \\theta)$ only approximates $y$\n",
    "\n",
    "**NOTE**: $x = (x_1, x_2 ... x_k)$, _where each of_ $x_1, x_2 ... x_k$ _is a value of a particular [covariate](https://www.statology.org/covariate/)._\n",
    "\n",
    "---\n",
    "\n",
    "Hence, we have that:\n",
    "\n",
    "$y = f(x, \\theta) + \\epsilon$\n",
    "\n",
    "---\n",
    "\n",
    "Since $f$ here is defined as a linear function, we have that:\n",
    "\n",
    "$y = wx^T + b + \\epsilon = w_1 x_1 + w_2 x_2 + ... w_k x_k + b + \\epsilon$, where:\n",
    "\n",
    "- $w$ is the row vector of weights, i.e. $w = (w_1, w_2 ... w_k)$\n",
    "- $x$ is the row vector of inputs, i.e. $x = (x_1, x_2 ... x_k)$\n",
    "- $y$ is the output, i.e. the target variable's value\n",
    "- $b$ is the bias term (a single value)\n",
    "- Hence, the parameter vector is given by $\\theta = (w_1, w_2 ... w_k, b)$\n",
    "\n",
    "---\n",
    "\n",
    "Our goal is to estimate the posterior distribution of $\\theta = (w_1, w_2 ... w_k, b)$ using MCMC sampling."
   ]
  },
  {
   "cell_type": "markdown",
   "id": "2c206e29-c5d7-4dee-8711-38fef51ff96b",
   "metadata": {},
   "source": [
    "## Necessary imports"
   ]
  },
  {
   "cell_type": "code",
   "execution_count": 9,
   "id": "aa478dc3-0511-4a56-bb09-1ce7c03a0d81",
   "metadata": {},
   "outputs": [],
   "source": [
    "import os\n",
    "import numpy as np\n",
    "import pandas as pd\n",
    "import matplotlib.pyplot as plt\n",
    "from ipywidgets import interact, fixed, widgets\n",
    "from types import MethodType\n",
    "\n",
    "# Visulisation functions:\n",
    "from visualisations import histogram_trace, plot_linear_data, plot_y_timeseries, boxplot_weights, plot_ycorr_scatter\n",
    "'''\n",
    "`visualisations.py` is a copy of the file:\n",
    "https://github.com/sydney-machine-learning/Bayesianneuralnetworks-MCMC-tutorial/blob/main/functions/visualisations.py\n",
    "'''\n",
    "\n",
    "np.random.seed(2023)"
   ]
  },
  {
   "cell_type": "markdown",
   "id": "3b832246-917a-45b1-bf94-73abb68141b6",
   "metadata": {},
   "source": [
    "## Defining the linear model\n",
    "Simple linear model with a single output $\\hat{y}$ (i.e. predicted output, such that $\\hat{y} \\approx y$) given the covariate values $x_1, x_2 ... x_k$ of the form:\n",
    "\n",
    "$\\hat{y} = w_1 x_1 + w_2 x_2 + ... + w_k x_k + b$, where:\n",
    "\n",
    "- $k$ = number of features\n",
    "- $w = (w_1, w_2 ... w_k)$ are the weights\n",
    "- $b$ is the bias"
   ]
  },
  {
   "cell_type": "code",
   "execution_count": 10,
   "id": "b612c04c-c30d-410a-8f35-bf3c457529bd",
   "metadata": {},
   "outputs": [],
   "source": [
    "class LinearModel:\n",
    "    # Initialise values of the model parameters:\n",
    "    def __init__(self):\n",
    "        self.w = None\n",
    "        self.b = None \n",
    "\n",
    "    # Function to take in the data and the proposed sample of the parameter and return the prediction:\n",
    "    def evaluate_proposal(self, D, θ):\n",
    "        '''\n",
    "        Encode the proposed parameters and then use the model to predict\n",
    "        ------------------------------------\n",
    "        D : (n x k) array of data, i.e. n data points with k covariate values (input values) each\n",
    "        θ : (k + 1) vector of model parameters; the last element of θ is the bias term\n",
    "\n",
    "        NOTE: Although θ is a vector of parameters, as a vector, it is collectively regarded as one parameter.\n",
    "        '''\n",
    "\n",
    "        # Method to encode w and b, i.e. to parametrise the model with w and b:\n",
    "        self.encode(θ) # NOTE: θ = (w_1, w_2 ... w_k, b)\n",
    "        prediction = self.predict(D) # Predict based on the newly parametrised model\n",
    "        return prediction\n",
    "\n",
    "    # Linear model prediction:\n",
    "    def predict(self, x):\n",
    "        y_hat = x.dot(self.w) + self.b\n",
    "        return y_hat\n",
    "    \n",
    "    # Helper function to split the parameter vector θ (\"θ\") into w and b and assign them to the model:\n",
    "    def encode(self, θ):\n",
    "        self.w =  θ[0:-1]\n",
    "        self.b = θ[-1] "
   ]
  },
  {
   "cell_type": "markdown",
   "id": "37ac9b7a-a1d1-48f7-a9e6-2df7b15b5518",
   "metadata": {},
   "source": [
    "## Defining the approach for MCMC sampling\n",
    "We assume the error term $\\epsilon$ in $y = wx^T + b + \\epsilon$ is a random normal variable centered at zero, with variance $\\tau^2$:\n",
    "\n",
    "$\\epsilon \\sim \\text{Normal}(0, \\tau^2)$\n",
    "\n",
    "As a result, since $\\theta$ is meant to be fixed once obtained, and since $x = (x_1, x_2 ... x_k)$ is a vector of covariates for which no distribution is considered, then we have that the target variable $y$ is also distributed by a normal distribution; naturally, its variance is the same as the variance for the error term. More precisely, for every given vector of inputs and given parameterisation, the target value is normally distributed with mean $wx^T + b = \\hat{y}$ and variance $\\tau^2$:\n",
    "\n",
    "$y \\sim \\text{Normal}(wx^T + b, \\tau^2)$\n",
    "\n",
    "---\n",
    "\n",
    "Hence, both $\\theta$ and $\\tau^2$ are unknown parameters that together are relevant to modelling $y$.\n",
    "\n",
    "$\\implies$ We have to estimate the posterior distribution not only of $\\theta$ but also of $\\tau^2$.\n",
    "\n",
    "$\\implies$ $(\\theta, \\tau^2)$ together constitute a combined parameter distributed by a joint posterior.\n",
    "\n",
    "**NOTE**: _When referring to \"model parameter\", I am referring only to_ $\\theta$; _to refer to_ $(\\theta, \\tau^2)$, _I shall say \"combined parameter\"._"
   ]
  },
  {
   "cell_type": "markdown",
   "id": "36f6f309-3a15-49e7-aee9-e4e7f0ab3b12",
   "metadata": {},
   "source": [
    "### Defining the likelihood\n",
    "\n",
    "We have shown that, given $\\epsilon \\sim \\text{Normal}(0, \\tau^2)$, $y$ us distributed as follows:\n",
    "\n",
    "$y \\sim \\text{Normal}(wx^T + b, \\tau^2)$\n",
    "\n",
    "Hence, the likelihood _density_ of getting $y$ given input $x$ and parameterisation $\\theta$ is given by:\n",
    "\n",
    "$\\text{Normal}(wx^T + b, \\tau^2)(y)$\n",
    "\n",
    "$= \\frac{1}{\\sqrt{2 \\pi \\tau^2}} e^{- \\frac{(y - (wx^T + b))^2}{2 \\tau^2}}$ (probability density function of normal distribution)\n",
    "\n",
    "$= \\frac{1}{\\sqrt{2 \\pi \\tau^2}} e^{- \\frac{(y - \\hat{y})^2}{2 \\tau^2}}$ (since $\\hat{y} = wx^T + b$)\n",
    "\n",
    "**NOTE**: _We can only use density, because_ $y$ _is distributed across a continuous range, which means point-wise probability mass is always 0._\n",
    "\n",
    "---\n",
    "\n",
    "In practice, we obtain a set of $n$ observed $y$ values, $D_y = (y_1, y_2 ... y_n)$, rather than a continuous range.\n",
    "\n",
    "---\n",
    "\n",
    "The likelihood _density_ of getting $D_y = (y_1, y_2 ... y_n)$ is given by:\n",
    "\n",
    "$\\displaystyle \\prod_{i=1}^n \\frac{1}{\\sqrt{2 \\pi \\tau^2}} e^{- \\frac{(y_i - \\hat{y_i})^2}{2 \\tau^2}}$\n",
    "\n",
    "The above product is computationally intensive; hence we use the log-likelihood density:\n",
    "\n",
    "$\\displaystyle \\log(\\prod_{i=1}^n \\frac{1}{\\sqrt{2 \\pi \\tau^2}} e^{- \\frac{(y_i - \\hat{y_i})^2}{2 \\tau^2}})$\n",
    "\n",
    "$= \\displaystyle \\sum_{i=1}^n \\log(\\frac{1}{\\sqrt{2 \\pi \\tau^2}} e^{- \\frac{(y_i - \\hat{y_i})^2}{2 \\tau^2}})$\n",
    "\n",
    "$= \\displaystyle \\sum_{i=1}^n \\log \\frac{1}{\\sqrt{2 \\pi \\tau^2}} + \\log e^{- \\frac{(y_i - \\hat{y_i})^2}{2 \\tau^2}})$\n",
    "\n",
    "$= \\displaystyle \\sum_{i=1}^n \\log \\frac{1}{\\sqrt{2 \\pi \\tau^2}} - \\frac{(y_i - \\hat{y_i})^2}{2 \\tau^2}$\n",
    "\n",
    "$= \\displaystyle \\sum_{i=1}^n \\log ((2 \\pi \\tau^2)^{- \\frac{1}{2}}) - \\frac{(y_i - \\hat{y_i})^2}{2 \\tau^2}$\n",
    "\n",
    "$= \\displaystyle \\sum_{i=1}^n - \\frac{1}{2} \\log (2 \\pi \\tau^2) - \\frac{(y_i - \\hat{y_i})^2}{2 \\tau^2}$\n",
    "\n",
    "$= \\displaystyle \\sum_{i=1}^n - 0.5 \\log (2 \\pi \\tau^2) - 0.5 \\frac{(y_i - \\hat{y_i})^2}{\\tau^2}$"
   ]
  },
  {
   "cell_type": "code",
   "execution_count": 11,
   "id": "9942b7af-7d29-4292-9410-789720c00c41",
   "metadata": {},
   "outputs": [],
   "source": [
    "def likelihood_function(self, θ, τ_squared, test=False):\n",
    "    '''\n",
    "    Calculate the likelihood of the data given the parameters\n",
    "    ------------------------------------\n",
    "    INPUT\n",
    "    θ         : (k + 1) vector of parameters; the last element of θ is the bias term\n",
    "    τ_squared : Variance of the error term\n",
    "    test      : Boolean which indicates whether to use testing data (True) or training data (False)\n",
    "    ------------------------------------\n",
    "    OUTPUT\n",
    "    log_likelihood   : log likelihood of the data given the parameters\n",
    "    model_prediction : prediction of the model given the parameters\n",
    "    accuracy         : accuracy (RMSE) of the model given the parameters\n",
    "    '''\n",
    "\n",
    "    # Deciding whether to use testing data or training data:\n",
    "    if test:\n",
    "        x_data = self.x_test\n",
    "        y_data = self.y_test\n",
    "    else:\n",
    "        x_data = self.x_data\n",
    "        y_data = self.y_data\n",
    "    \n",
    "    # First make a prediction with parameters θ:\n",
    "    model_prediction = self.model.evaluate_proposal(x_data, θ)\n",
    "    model_simulation = model_prediction + np.random.normal(0, τ_squared, size=model_prediction.shape) \n",
    "    accuracy = self.rmse(model_prediction, y_data) #RMSE error metric \n",
    "    \n",
    "    # Now calculate the log likelihood:\n",
    "    log_likelihood = np.sum(-0.5*np.log(2*np.pi*τ_squared) - 0.5*np.square(y_data - model_prediction)/τ_squared)\n",
    "    return [log_likelihood, model_prediction, model_simulation, accuracy]"
   ]
  },
  {
   "cell_type": "markdown",
   "id": "482c4259-9aad-455d-ad6d-c8b4dba9497d",
   "metadata": {},
   "source": [
    "### Defining the prior\n",
    "We have shown that, given $\\epsilon \\sim \\text{Normal}(0, \\tau^2)$, $y$ us distributed as follows:\n",
    "\n",
    "$y \\sim \\text{Normal}(wx^T + b, \\tau^2)$\n",
    "\n",
    "---\n",
    "\n",
    "Hence, note that we have to estimate the posterior distribution not only of $\\theta$ but also of $\\tau^2$, since both are unknown parameters that together are relevant to modelling $y$. Hence, ($\\theta, \\tau^2)$ is a combined parameter with a prior distribution that combines the priors of $\\theta$ and $\\tau^2$. We shall define the priors as follows:\n",
    "\n",
    "- $\\theta \\sim \\text{Normal}(0, \\sigma^2)$\n",
    "- $\\tau^2 \\sim \\Gamma^{-1}(c_1, c_2)$ (inverse-gamma distribution with $c_1, c_2$ as its parameters)"
   ]
  },
  {
   "cell_type": "code",
   "execution_count": 12,
   "id": "759c2f5d-e085-4e11-8b90-f0a6a1d888dd",
   "metadata": {},
   "outputs": [],
   "source": [
    "# Define the prior\n",
    "def prior(self, σ_squared, c_1, c_2, θ, τ_squared): \n",
    "    '''\n",
    "    Calculate the prior of the parameters\n",
    "    ------------------------------------\n",
    "    INPUT\n",
    "    σ_squared : Variance of normal prior for θ\n",
    "    c_1       : Parameter c_1 of the inverse gamma prior for τ^2\n",
    "    c_2       : Parameter c_2 of the inverse gamma prior for τ^2\n",
    "    θ         : (k + 1) vector of parameters; the last element of θ is the bias term\n",
    "    τ_squared : Variance of the error term\n",
    "    ------------------------------------\n",
    "    OUTPUT\n",
    "    log_prior : log prior\n",
    "    '''\n",
    "    \n",
    "    n_params = self.θ_size # number of parameters in model\n",
    "    part1 = -1*(n_params/2)*np.log(σ_squared)\n",
    "    part2 = 1/(2*σ_squared)*(sum(np.square(θ)))\n",
    "    log_prior = part1 - part2 - (1 + c_1)*np.log(τ_squared) - (c_2/τ_squared)\n",
    "    return log_prior"
   ]
  },
  {
   "cell_type": "markdown",
   "id": "0e27167d-4ea0-415a-8dd5-6917f73c7776",
   "metadata": {},
   "source": [
    "### Defining the sampler"
   ]
  },
  {
   "cell_type": "code",
   "execution_count": 19,
   "id": "75f09d7b-bca0-4d9d-941b-cb9450e8ca54",
   "metadata": {},
   "outputs": [],
   "source": [
    "def sampler(self):\n",
    "    '''\n",
    "    Run the sampler for a defined linear model\n",
    "    '''\n",
    "    #------------------------------------\n",
    "    # INITIALISING ARRAYS TO STORE SAMPLED POSTERIOR VALUES\n",
    "\n",
    "    # 1. Posterior of all weights and bias over all samples\n",
    "    pos_θ = np.ones((self.n_samples, self.θ_size)) \n",
    "    \n",
    "    # 2. Posterior defining the variance of the noise in predictions:\n",
    "    pos_τ = np.ones((self.n_samples, 1))\n",
    "    pos_eta = np.ones((self.n_samples, 1))\n",
    "\n",
    "    #------------------------------------\n",
    "    # INITIALISING ARRAYS TO STORE OUTPUTS FOR SIMULATED TRAINING AND TESTING DATA\n",
    "    \n",
    "    # Record output (i.e. predicted target value) f(x) over all samples:\n",
    "    pred_y = np.zeros((self.n_samples, self.x_data.shape[0]))\n",
    "    \n",
    "    # Record simulated values f(x) + error over all samples:\n",
    "    sim_y = np.zeros((self.n_samples, self.x_data.shape[0]))\n",
    "    \n",
    "    # Record the RMSE of each sample:\n",
    "    rmse_data = np.zeros(self.n_samples)\n",
    "    \n",
    "    # now for test\n",
    "    test_pred_y = np.ones((self.n_samples, self.x_test.shape[0]))\n",
    "    test_sim_y = np.ones((self.n_samples, self.x_test.shape[0]))\n",
    "    test_rmse_data = np.zeros(self.n_samples)\n",
    "\n",
    "    #------------------------------------\n",
    "    # INITIALISING MCMC\n",
    "    \n",
    "    # Initialise θ, i.e. the vector of the model parameters:\n",
    "    θ = np.random.randn(self.θ_size)\n",
    "    \n",
    "    # Make initial prediction:\n",
    "    pred_y[0,] = self.model.evaluate_proposal(self.x_data, θ)\n",
    "\n",
    "    # Initialise eta (we sample eta as a gaussian random walk in the log space of τ^2):\n",
    "    eta = np.log(np.var(pred_y[0,] - self.y_data))\n",
    "    τ_squared_proposal = np.exp(eta)\n",
    "\n",
    "    # Calculate the prior:\n",
    "    prior_val = self.prior(self.σ_squared, self.c_1, self.c_2, θ, τ_squared_proposal)\n",
    "    \n",
    "    # Calculate the log-likelihood considering observations:\n",
    "    [likelihood_current, pred_y[0,], sim_y[0,], rmse_data[0]] = self.likelihood_function(θ, τ_squared_proposal)\n",
    "\n",
    "    # Variable to keep track of the number of proposed samples that have been accepted:\n",
    "    n_accepted_samples = 0\n",
    "    \n",
    "    #------------------------------------\n",
    "    # RUN THE MCMC SAMPLER FOR `n_samples` ITERATIONS\n",
    "    \n",
    "    for i in np.arange(1,self.n_samples):\n",
    "        # Sample new values for θ and τ using a Gaussian random walk:\n",
    "        θ_proposal = θ + np.random.normal(0, self.step_θ, self.θ_size)\n",
    "        eta_proposal = eta + np.random.normal(0, self.step_eta, 1) # sample τ^2 in log space\n",
    "        τ_squared_proposal = np.exp(eta_proposal)\n",
    "\n",
    "        #________________________\n",
    "        # Calculate the prior:\n",
    "        prior_proposal = self.prior(self.σ_squared, self.c_1, self.c_2, θ_proposal, τ_squared_proposal)\n",
    "        \n",
    "        # Calculate the log-likelihood considering observations:\n",
    "        [likelihood_proposal, pred_y[i,], sim_y[i,], rmse_data[i]] = self.likelihood_function(θ_proposal, τ_squared_proposal)\n",
    "\n",
    "         # Calculate the test likelihood:\n",
    "        [_, test_pred_y[i,], test_sim_y[i,], test_rmse_data[i]] = self.likelihood_function(θ_proposal, τ_squared_proposal, test=True)\n",
    "\n",
    "        #________________________\n",
    "        # Noting that likelihood_function and prior_val return log likelihoods, we can use log laws to calculate the acceptance probability:\n",
    "        diff_likelihood = likelihood_proposal - likelihood_current\n",
    "        diff_prior = prior_proposal - prior_val\n",
    "\n",
    "        # Logarithm of the Metropolis-Hastings acceptance probability:\n",
    "        # NOTE: Logarithm is used since it is easier to compute if `diff_likelihood + diff_prior` happens to be large\n",
    "        log_mh_prob = min(np.log(1), diff_likelihood + diff_prior)\n",
    "        \n",
    "        #________________________\n",
    "        # Sample to accept or reject the proposal according to the acceptance probability:\n",
    "        if np.random.uniform(0, 1) < np.exp(log_mh_prob):\n",
    "            # Accept and update the values:\n",
    "            n_accepted_samples += 1\n",
    "            likelihood_current = likelihood_proposal\n",
    "            prior_val = prior_proposal\n",
    "            θ = θ_proposal\n",
    "            eta = eta_proposal\n",
    "            # Store to make up the posterior:\n",
    "            pos_θ[i,] = θ_proposal\n",
    "            pos_τ[i,] = τ_squared_proposal\n",
    "            pos_eta[i,] = eta_proposal\n",
    "        else:\n",
    "            # Reject move and store the old values:\n",
    "            pos_θ[i,] = pos_θ[i-1,]\n",
    "            pos_τ[i,] = pos_τ[i-1,]\n",
    "            pos_eta[i,] = pos_eta[i-1,]\n",
    "\n",
    "    #------------------------------------\n",
    "    # Calculate the acceptance rate as a check:\n",
    "    accept_rate = (n_accepted_samples / self.n_samples) * 100\n",
    "    print('{:.3f}% were accepted'.format(accept_rate))\n",
    "\n",
    "    # Store the posterior (samples after burn in) in a Pandas dataframe and return:\n",
    "    self.pos_θ = pos_θ[self.n_burnin:, ]\n",
    "    self.pos_τ = pos_τ[self.n_burnin:, ] \n",
    "    self.pos_eta = pos_eta[self.n_burnin:, ]\n",
    "    self.rmse_data = rmse_data[self.n_burnin:]\n",
    "\n",
    "    # Split θ into w and b:\n",
    "    results_dict = {'w{}'.format(_): self.pos_θ[:, _].squeeze() for _ in range(self.θ_size-1)}\n",
    "    results_dict['b'] = self.pos_θ[:, -1].squeeze()\n",
    "    results_dict['τ'] = self.pos_τ.squeeze()\n",
    "    results_dict['rmse'] = self.rmse_data.squeeze()\n",
    "\n",
    "    # Return the predictions:\n",
    "    pred_dict = {}\n",
    "    pred_dict['train_pred'] = pred_y[self.n_burnin:,:]\n",
    "    pred_dict['train_sim'] = sim_y[self.n_burnin:,:]\n",
    "    pred_dict['test_pred'] = test_pred_y[self.n_burnin:,:]\n",
    "    pred_dict['test_sim'] = test_sim_y[self.n_burnin:,:]\n",
    "\n",
    "    results_df = pd.DataFrame.from_dict(results_dict)\n",
    "    return results_df, pred_dict"
   ]
  },
  {
   "cell_type": "markdown",
   "id": "5cea4b6d-61fe-4da4-8af2-37c908b7bdf9",
   "metadata": {},
   "source": [
    "## Defining the class for performing MCMC"
   ]
  },
  {
   "cell_type": "code",
   "execution_count": 14,
   "id": "d3657fd1-53c3-4e1f-9331-2e5ea6a7cc85",
   "metadata": {},
   "outputs": [],
   "source": [
    "class MCMC:\n",
    "    def __init__(self, n_samples, n_burnin, x_data, y_data, x_test, y_test):\n",
    "        self.n_samples = n_samples # number of MCMC samples\n",
    "        self.n_burnin = n_burnin # number of burn-in samples\n",
    "        self.x_data = x_data # (n x k)\n",
    "        self.y_data = y_data # (k x 1)\n",
    "        self.x_test = x_test # (kt x num_features)\n",
    "        self.y_test = y_test # (kt x 1)\n",
    "\n",
    "        # MCMC sampler hyperparameters (defines the variance term in our Gaussian random walk):\n",
    "        self.step_θ = 0.02;  \n",
    "        self.step_eta = 0.01; # note eta is used as tau in the sampler to consider log scale.  \n",
    "        \n",
    "        # Model hyperparameters (considered by looking at distribution of similar trained  models, i.e distribution of weights and bias):\n",
    "        self.σ_squared = 5\n",
    "        self.c_1 = 1\n",
    "        self.c_2 = 0.5\n",
    "\n",
    "        # Initisalise the linear model class:\n",
    "        self.model = LinearModel()\n",
    "        self.θ_size = x_data.shape[1] + 1 # weights for each feature and a bias term (M+1)\n",
    "\n",
    "        # Store output:\n",
    "        self.pos_θ = None\n",
    "        self.pos_τ = None\n",
    "        self.pos_eta = None\n",
    "        self.rmse_data = None\n",
    "\n",
    "        # functions defined above - this is poor practice, but done for readability \n",
    "        # and clarity\n",
    "        self.likelihood_function = MethodType(likelihood_function, self)\n",
    "        self.prior = MethodType(prior, self)\n",
    "        self.sampler = MethodType(sampler, self)\n",
    "\n",
    "    # Additional error metric\n",
    "    def rmse(self, predictions, targets):\n",
    "        return np.sqrt(((predictions - targets) ** 2).mean())"
   ]
  },
  {
   "cell_type": "markdown",
   "id": "8402bfc6-c93a-4bc2-8ede-261ea786024f",
   "metadata": {},
   "source": [
    "## Defining a synthetic regression problem"
   ]
  },
  {
   "cell_type": "code",
   "execution_count": 56,
   "id": "bae1c60b-e892-40a6-a0b9-329d3df62ae6",
   "metadata": {},
   "outputs": [
    {
     "name": "stdout",
     "output_type": "stream",
     "text": [
      "importing Jupyter notebook from .\\synthetic_regression_problems.ipynb\n"
     ]
    }
   ],
   "source": [
    "import import_ipynb\n",
    "N = import_ipynb.NotebookLoader(path=['.'])\n",
    "N.load_module('synthetic_regression_problems')\n",
    "from synthetic_regression_problems import *"
   ]
  },
  {
   "cell_type": "code",
   "execution_count": 57,
   "id": "5c80b52c-da0b-4fb1-a0d8-f98040d2266c",
   "metadata": {},
   "outputs": [
    {
     "data": {
      "image/png": "[encoded data removed]",
      "text/plain": [
       "<Figure size 640x480 with 1 Axes>"
      ]
     },
     "metadata": {},
     "output_type": "display_data"
    }
   ],
   "source": [
    "# MCMC Settings and Setup\n",
    "n_data_points = 600\n",
    "test_split = int(n_data_points * 0.8)\n",
    "E = Problem_E(n_data_points)\n",
    "E.plot_data()"
   ]
  },
  {
   "cell_type": "markdown",
   "id": "4b3a4b50-6bf5-44fb-a589-34b1fead5a5e",
   "metadata": {},
   "source": [
    "## Running the MCMC for the synthetic regression problem"
   ]
  },
  {
   "cell_type": "code",
   "execution_count": 71,
   "id": "57d5ac5d-d86c-43c0-aad3-b14ac93de62c",
   "metadata": {},
   "outputs": [
    {
     "name": "stdout",
     "output_type": "stream",
     "text": [
      "20.820% were accepted\n"
     ]
    }
   ],
   "source": [
    "n_samples = 5000 # number of samples to draw from the posterior\n",
    "burn_in = int(n_samples* 0.25) # number of samples to discard before recording draws from the posterior\n",
    "\n",
    "# or load from sunspot data\n",
    "x_data = E.x[:test_split].numpy()\n",
    "y_data = E.y[:test_split].numpy()\n",
    "x_test = E.x[test_split:].numpy()\n",
    "y_test = E.y[test_split:].numpy()\n",
    "\n",
    "# Initialise the MCMC class:\n",
    "mcmc = MCMC(n_samples, burn_in, x_data, y_data, x_test, y_test)\n",
    "\n",
    "# Run the sampler:\n",
    "results, pred = mcmc.sampler()"
   ]
  },
  {
   "cell_type": "markdown",
   "id": "3fdb676d-e755-43c6-a9a4-5261cc8eb4f1",
   "metadata": {},
   "source": [
    "Viewing the results..."
   ]
  },
  {
   "cell_type": "code",
   "execution_count": 82,
   "id": "b14fd455-d893-4ab6-9352-b84b79a5b489",
   "metadata": {},
   "outputs": [
    {
     "data": {
      "text/html": [
       "<div>\n",
       "<style scoped>\n",
       "    .dataframe tbody tr th:only-of-type {\n",
       "        vertical-align: middle;\n",
       "    }\n",
       "\n",
       "    .dataframe tbody tr th {\n",
       "        vertical-align: top;\n",
       "    }\n",
       "\n",
       "    .dataframe thead th {\n",
       "        text-align: right;\n",
       "    }\n",
       "</style>\n",
       "<table border=\"1\" class=\"dataframe\">\n",
       "  <thead>\n",
       "    <tr style=\"text-align: right;\">\n",
       "      <th></th>\n",
       "      <th>w0</th>\n",
       "      <th>b</th>\n",
       "      <th>τ</th>\n",
       "      <th>rmse</th>\n",
       "    </tr>\n",
       "  </thead>\n",
       "  <tbody>\n",
       "    <tr>\n",
       "      <th>0</th>\n",
       "      <td>-0.005549</td>\n",
       "      <td>-0.018383</td>\n",
       "      <td>134.454024</td>\n",
       "      <td>11.608575</td>\n",
       "    </tr>\n",
       "    <tr>\n",
       "      <th>1</th>\n",
       "      <td>-0.005549</td>\n",
       "      <td>-0.018383</td>\n",
       "      <td>134.454024</td>\n",
       "      <td>11.608539</td>\n",
       "    </tr>\n",
       "    <tr>\n",
       "      <th>2</th>\n",
       "      <td>-0.005549</td>\n",
       "      <td>-0.018383</td>\n",
       "      <td>134.454024</td>\n",
       "      <td>11.608735</td>\n",
       "    </tr>\n",
       "    <tr>\n",
       "      <th>3</th>\n",
       "      <td>-0.005549</td>\n",
       "      <td>-0.018383</td>\n",
       "      <td>134.454024</td>\n",
       "      <td>11.608544</td>\n",
       "    </tr>\n",
       "    <tr>\n",
       "      <th>4</th>\n",
       "      <td>-0.000689</td>\n",
       "      <td>-0.004609</td>\n",
       "      <td>135.271490</td>\n",
       "      <td>11.608529</td>\n",
       "    </tr>\n",
       "    <tr>\n",
       "      <th>...</th>\n",
       "      <td>...</td>\n",
       "      <td>...</td>\n",
       "      <td>...</td>\n",
       "      <td>...</td>\n",
       "    </tr>\n",
       "    <tr>\n",
       "      <th>3745</th>\n",
       "      <td>-0.010175</td>\n",
       "      <td>-0.010271</td>\n",
       "      <td>134.761349</td>\n",
       "      <td>11.608578</td>\n",
       "    </tr>\n",
       "    <tr>\n",
       "      <th>3746</th>\n",
       "      <td>-0.010175</td>\n",
       "      <td>-0.010271</td>\n",
       "      <td>134.761349</td>\n",
       "      <td>11.608569</td>\n",
       "    </tr>\n",
       "    <tr>\n",
       "      <th>3747</th>\n",
       "      <td>-0.010175</td>\n",
       "      <td>-0.010271</td>\n",
       "      <td>134.761349</td>\n",
       "      <td>11.608917</td>\n",
       "    </tr>\n",
       "    <tr>\n",
       "      <th>3748</th>\n",
       "      <td>-0.010175</td>\n",
       "      <td>-0.010271</td>\n",
       "      <td>134.761349</td>\n",
       "      <td>11.608614</td>\n",
       "    </tr>\n",
       "    <tr>\n",
       "      <th>3749</th>\n",
       "      <td>-0.014350</td>\n",
       "      <td>0.000555</td>\n",
       "      <td>134.455499</td>\n",
       "      <td>11.608553</td>\n",
       "    </tr>\n",
       "  </tbody>\n",
       "</table>\n",
       "<p>3750 rows × 4 columns</p>\n",
       "</div>"
      ],
      "text/plain": [
       "            w0         b           τ       rmse\n",
       "0    -0.005549 -0.018383  134.454024  11.608575\n",
       "1    -0.005549 -0.018383  134.454024  11.608539\n",
       "2    -0.005549 -0.018383  134.454024  11.608735\n",
       "3    -0.005549 -0.018383  134.454024  11.608544\n",
       "4    -0.000689 -0.004609  135.271490  11.608529\n",
       "...        ...       ...         ...        ...\n",
       "3745 -0.010175 -0.010271  134.761349  11.608578\n",
       "3746 -0.010175 -0.010271  134.761349  11.608569\n",
       "3747 -0.010175 -0.010271  134.761349  11.608917\n",
       "3748 -0.010175 -0.010271  134.761349  11.608614\n",
       "3749 -0.014350  0.000555  134.455499  11.608553\n",
       "\n",
       "[3750 rows x 4 columns]"
      ]
     },
     "execution_count": 82,
     "metadata": {},
     "output_type": "execute_result"
    }
   ],
   "source": [
    "results"
   ]
  },
  {
   "cell_type": "code",
   "execution_count": 73,
   "id": "f79bda15-bdcf-4571-bb12-4716a51a310a",
   "metadata": {},
   "outputs": [],
   "source": [
    "# Gather the predicitons into useful variables:\n",
    "pred_y = pred['train_pred']\n",
    "sim_y = pred['train_sim']\n",
    "pred_y_test = pred['test_pred']\n",
    "sim_y_test = pred['test_sim']"
   ]
  }
 ],
 "metadata": {
  "kernelspec": {
   "display_name": "Python 3 (ipykernel)",
   "language": "python",
   "name": "python3"
  },
  "language_info": {
   "codemirror_mode": {
    "name": "ipython",
    "version": 3
   },
   "file_extension": ".py",
   "mimetype": "text/x-python",
   "name": "python",
   "nbconvert_exporter": "python",
   "pygments_lexer": "ipython3",
   "version": "3.11.9"
  }
 },
 "nbformat": 4,
 "nbformat_minor": 5
}

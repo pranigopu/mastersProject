{
 "cells": [
  {
   "cell_type": "markdown",
   "id": "0114219f-20c3-4225-8618-7a23747fa878",
   "metadata": {},
   "source": [
    "# EXPERIMENTATION"
   ]
  },
  {
   "cell_type": "markdown",
   "id": "5d9c27c4-f382-41d8-a584-e2c52af94a54",
   "metadata": {},
   "source": [
    "# Necessary Imports"
   ]
  },
  {
   "cell_type": "code",
   "execution_count": 3,
   "id": "98ac05a8-6a11-4f1f-959e-3fb61dcd469d",
   "metadata": {},
   "outputs": [
    {
     "name": "stdout",
     "output_type": "stream",
     "text": [
      "importing Jupyter notebook from .\\dependencies_for_data_generation.ipynb\n",
      "importing Jupyter notebook from .\\dependencies_for_bnn_using_hmc.ipynb\n",
      "importing Jupyter notebook from .\\dependencies_for_data_generation.ipynb\n",
      "importing Jupyter notebook from .\\dependencies_for_bnn_using_vi.ipynb\n",
      "importing Jupyter notebook from .\\dependencies_for_data_generation.ipynb\n"
     ]
    }
   ],
   "source": [
    "# Loading all dependencies:\n",
    "import import_ipynb\n",
    "N = import_ipynb.NotebookLoader(path=['.'])\n",
    "N.load_module('dependencies_for_data_generation')\n",
    "N.load_module('dependencies_for_bnn_using_hmc')\n",
    "N.load_module('dependencies_for_bnn_using_vi')\n",
    "from dependencies_for_data_generation import *\n",
    "from dependencies_for_bnn_using_hmc import *\n",
    "from dependencies_for_bnn_using_vi import *"
   ]
  },
  {
   "cell_type": "code",
   "execution_count": null,
   "id": "fe08cce8-7940-4f9f-afe0-11e69f5a6704",
   "metadata": {},
   "outputs": [],
   "source": []
  }
 ],
 "metadata": {
  "kernelspec": {
   "display_name": "Python 3 (ipykernel)",
   "language": "python",
   "name": "python3"
  },
  "language_info": {
   "codemirror_mode": {
    "name": "ipython",
    "version": 3
   },
   "file_extension": ".py",
   "mimetype": "text/x-python",
   "name": "python",
   "nbconvert_exporter": "python",
   "pygments_lexer": "ipython3",
   "version": "3.11.9"
  }
 },
 "nbformat": 4,
 "nbformat_minor": 5
}

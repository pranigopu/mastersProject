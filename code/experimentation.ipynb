{
 "cells": [
  {
   "cell_type": "code",
   "execution_count": null,
   "id": "f3f211d0-11b7-4112-a66d-1fa43487a3a5",
   "metadata": {},
   "outputs": [],
   "source": [
    "sample_predictions = []\n",
    "for sample in samples:\n",
    "    sample_predictions.append(functional_model.predict_for_proposal(x_train, sample, layer))\n",
    "\n",
    "for i in range(len(sample_predictions)):\n",
    "    sample_predictions[i] = sample_predictions[i].numpy()"
   ]
  },
  {
   "cell_type": "code",
   "execution_count": null,
   "id": "54a87a30-880b-4406-bbb6-850e0ea1a860",
   "metadata": {},
   "outputs": [],
   "source": [
    "s = np.concatenate(sample_predictions, axis=1)\n",
    "s.shape"
   ]
  },
  {
   "cell_type": "code",
   "execution_count": null,
   "id": "527e2884-b6d5-43a8-9085-1cf980f7dc28",
   "metadata": {},
   "outputs": [],
   "source": [
    "from scipy.stats import t, norm, kstest\n",
    "i = 16\n",
    "problem = pick_problem('A')\n",
    "mean = problem.f(x_train[i])\n",
    "sigma = 0.25\n",
    "dist = norm(mean, sigma)\n",
    "KS = kstest(s[i], s[i], alternative=\"two-sided\", N=len(s[i]))\n",
    "\n",
    "# Printing the results:\n",
    "labels = [\"statistic\", \"pvalue\"]\n",
    "for l, ks in list(zip(labels, KS[:2])): print(f\"{l} = {ks}\")"
   ]
  }
 ],
 "metadata": {
  "kernelspec": {
   "display_name": "Python 3 (ipykernel)",
   "language": "python",
   "name": "python3"
  },
  "language_info": {
   "codemirror_mode": {
    "name": "ipython",
    "version": 3
   },
   "file_extension": ".py",
   "mimetype": "text/x-python",
   "name": "python",
   "nbconvert_exporter": "python",
   "pygments_lexer": "ipython3",
   "version": "3.11.9"
  }
 },
 "nbformat": 4,
 "nbformat_minor": 5
}

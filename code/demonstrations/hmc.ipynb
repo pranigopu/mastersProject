{
 "cells": [
  {
   "cell_type": "markdown",
   "id": "e1ebaf75-ce65-4a6d-83a4-d0ab62dacb6c",
   "metadata": {},
   "source": [
    "# HAMILTONIAN MONTE CARLO\n",
    "> **Key conceptual reference**: [\"MCMC METHOD 2: Hamiltonian Monte Carlo (HMC)\" from \"Markov chain Monte Carlo (MCMC)\" from _Sampling Methods_ from **Bayesian Inference** from `conceptual-notes`](https://github.com/pranigopu/mastersProject/blob/main/conceptual-notes/bayesian-inference/sampling-methods/markov-chain-monte-carlo-mcmc/hamiltonian-monte-carlo-hmc.md)\n",
    "\n",
    "---\n",
    "\n",
    "**Topics discussed**:\n",
    "\n",
    "1. [Introduction](#1.-Introduction)\n",
    "2. [Conceptual and Practical Basics](#2.-Conceptual-and-Practical-Basics)\n",
    "    - [Leapfrog integrator](#Leapfrog-integrator)\n",
    "    - [HMC sampler](#HMC-sampler)\n",
    "3. [Basic Application](#3.-Basic-Application)\n",
    "4. [HMC for Parameters of a Linear Regression Model](#4.-HMC-for-Parameters-of-a-Linear-Regression-Model)"
   ]
  },
  {
   "cell_type": "markdown",
   "id": "47c23394-fb61-405d-af77-1b335bf2e930",
   "metadata": {
    "jp-MarkdownHeadingCollapsed": true
   },
   "source": [
    "# 1. Introduction\n",
    "HMC is a class of MCMC methods that uses gradients (of the log-probability of the posterior distribution) to generate new proposed states (i.e. new samples proposed to be from the target distribution). The gradients of the log-probability of the posterior evaluated at a given state (i.e. a given sample) gives information about the posterior density function's geometry.\n",
    "\n",
    "_Why is the negative log-probability of the posterior used, rather than the posterior itself?_ The mathematical basis for it shall become clear in the subsection [\"Mathematical formulation\"](#mathematical-formulation). However, note that the negative log-probability preserves the distribution of the posterior's probability mass as well as the posterior's modes, except that the modes are represented by minima instead of maxima. Hence, samples from a high-probability-mass region of the negative log-probability of the posterior follow the same distribution as samples from a high-probability-mass region of the posterior itself.\n",
    "\n",
    "HMC tries to avoid the random walk behavior typical of Metropolis-Hastings by using the gradient to propose new positions (i.e. new samples) that is both far from the current position (i.e. current sample) and with high acceptance probability. This allows HMC to better scale to higher dimensions and, in principle, to more complex geometries (compared to alternative methods). Intuitively, we can think of HMC as a Metropolis-Hasting algorithm with a better sample proposal distribution.\n",
    "\n",
    "---\n",
    "\n",
    "**NOTE 1**: The benefit of consistently proposing new positions that are both far from the current position and with high acceptance rate is that you are likely to gain a much more representative and thus accurate sample of the distribution you want to estimate, but using fewer sampled values; in other words, it tends to make sampling more efficient.\n",
    "\n",
    "**NOTE 2**: Remember that a \"sample\" here is a tuple of one or more values proposed parameter values of the target distribution. What we are trying to do, here and in all sampling methods, is discover (with some level of uncertainty) how well the various potential parameter values would describe the target distribution. Note also that a \"position\" or a \"state\" is simply a sample, i.e. simply a proposed tuple of parameter values.\n",
    "\n",
    "**NOTE 3**: Sampling from the negative log-probability of the posterior is the same in effect as sampling from the posterior itself (i.e. both lead to samples following the same distribution). Hence, when I refer to sampling from the posterior in the context of HMC, note that I am referring more precisely to sampling from the negative log-probability of the posterior. The distinction is only needed to describe the specific process of HMC and does not reflect on the actual samples obtained. However, apart from describing the specific process of HMC, I find that speaking in terms of sampling from the posterior makes it easier to relate the conceptual basis of HMC (i.e. Hamiltonian mechanics) to posterior sampling, which is why, when possible, I prefer to speak of sampling from the posterior rather than sampling from the negative log-probability of the posterior.\n",
    "\n",
    "---\n",
    "\n",
    "As we shall see, HMC is inspired from Hamiltonian mechanics and is hence often explained with an analogy to classical mechanics. In the context of HMC context, the \"position\" of the sample can be thought of as the location of a particle, and the \"momentum\" provides the force needed to move the particle through the parameter space."
   ]
  },
  {
   "cell_type": "markdown",
   "id": "268002ba-f76b-4148-a80c-b2ec8db23674",
   "metadata": {},
   "source": [
    "# 2. Conceptual and Practical Basics"
   ]
  },
  {
   "cell_type": "markdown",
   "id": "a3972b52-1b37-4001-9e8f-f70f7cc48de9",
   "metadata": {},
   "source": [
    "## Relevance of the implementations\n",
    "The implementations of the leapfrog integrator and the HMC function will be presented mostly for conceptual clarity about HMC in practice. However, for my practical purposes beyond conceptual understanding, I shall use an implementation packaged in the `tensorflow_probability` module, rather than a custom HMC function, due to the vastly greater convenience it offers. See its documentation here: [`tfp.mcmc.HamiltonianMonteCarlo` (Tensorflow documentation)](https://www.tensorflow.org/probability/api_docs/python/tfp/mcmc/HamiltonianMonteCarlo)."
   ]
  },
  {
   "cell_type": "markdown",
   "id": "74131ec0-de68-46be-ad51-be78600e901f",
   "metadata": {},
   "source": [
    "## Leapfrog integrator\n",
    "> **References**:\n",
    ">\n",
    "> - [_Deriving the Leapfrog Integrator_ from **rnowling.github.io/math**](https://rnowling.github.io/math/2016/11/11/deriving-leapfrog.html)\n",
    "> - [_Leapfrog integrator_ from **johndcook.com/blog**](https://www.johndcook.com/blog/2020/07/13/leapfrog-integrator/)\n",
    "\n",
    "Leapfrog integration is a method for numerically integrating differential equations of the form $\\frac{d^2x}{dt^2} = f(x)$, i.e. $x'' = f(x)$ (reference: [_Leapfrog integration_ from **Wikipedia**](https://en.wikipedia.org/wiki/Leapfrog_integration)). Here, $x$ is a function of $t$. In general, integrating a differential equation means solving it, i.e. finding the functions for the differentials so as to satisfy the differential equation. In the case of leapfrog integration, integrating a differential equation of the form $x'' = f(x)$ means solving for the function $x$ (note that $f$ is given). More precisely, for discrete steps along $t$, the leapfrom integrator tries to approximate the values for $x$ across for a given number of steps. Typically, $x$ is position and $t$ is time; this analogy can be extended to any use case."
   ]
  },
  {
   "cell_type": "markdown",
   "id": "2a770c80-5144-4e9c-938f-8b58f7bfed5d",
   "metadata": {},
   "source": [
    "### Mathematical basis\n",
    "The leapfrog integrator is a numerical method for solving differential equations of the form:\n",
    "\n",
    "$x'' = f(x)$\n",
    "\n",
    "Here, note the following:\n",
    "\n",
    "- $x$ is a function of $t$\n",
    "- Typically, $x$ is position and $t$ is time\n",
    "- We are dealing with a $k$ dimensional space, $k \\geq 1$\n",
    "- Hence, if $x(t)$ is the position, it would be an array of coordinates\n",
    "\n",
    "---\n",
    "\n",
    "We use the leapfrog integrator when there is no analytical equation for $x(t)$ that satisfies the differential equation, or at least when the analytical equation is too complex to derive. The idea is to use a numerical integration algorithm to compute values of $x(t)$ on discrete time steps $\\Delta t$. In the following equations, we can see how the values are approximated for $x$. Note that here, we are using the analogy (which can be accurately translated to posterior sampling) of $x$ as position, $v$ as velocity, $a$ as acceleration and $t$ as time. For the full derivation, see: [_Deriving the Leapfrog Integrator_ from **rnowling.github.io/math**](https://rnowling.github.io/math/2016/11/11/deriving-leapfrog.html); note that I have altered the notation according to [_Leapfrog integrator_ from **johndcook.com/blog**](https://www.johndcook.com/blog/2020/07/13/leapfrog-integrator/):\n",
    "\n",
    "- $a(t) = − f(x(t))$ (calculating $a$ for the current time step)\n",
    "- $x(t + \\Delta t) = x(t) + v(t)\\Delta t + \\frac{1}{2}a(t)\\Delta t^2$ (calculating $x$ for the next time step)\n",
    "- $a(t + \\Delta t) = − f(x(t+\\Delta t))$ (calculating $a$ for the next time step)\n",
    "- $v(t + \\Delta t)=v(t) + \\frac{1}{2}(a(t) + a(t + \\Delta t))\\Delta t$ (calculating $v$ for the next time step)\n",
    "\n",
    "---\n",
    "\n",
    "**SIDE NOTE**:\n",
    "\n",
    "$x$, $v$ and $a$ have the following relationships:\n",
    "\n",
    "- $x''(t) = a(t) = f(x)$\n",
    "- $v''(t) = a'(t)$\n",
    "- $x''(t) = v'(t) = a(t)$\n",
    "- $x'(t) = v(t)$\n",
    "\n",
    "The above relationships can be easily understood if you consider:\n",
    "\n",
    "- $x$ as position\n",
    "- $v$ as velocity\n",
    "- $a$ as acceleration\n",
    "- $t$ as time\n",
    "\n",
    "_Note that position, velocity and acceleration are all represented by vectors, if spatial dimensions $\\geq 1$._"
   ]
  },
  {
   "cell_type": "markdown",
   "id": "e903e063-03dc-4b5c-8986-6838afddc7a4",
   "metadata": {},
   "source": [
    "### Basic demonstration\n",
    "> **Reference**: [_Leapfrog integrator_ from **johndcook.com/blog**](https://www.johndcook.com/blog/2020/07/13/leapfrog-integrator/).\n",
    "\n",
    "In the following demontration, using leapfrog integrator, we shall solve:\n",
    "\n",
    "$x'' = f(x)$\n",
    "\n",
    "In this case, we can find the exact solution mathematically as:\n",
    "\n",
    "$x(t) = \\sin(t)$\n",
    "\n",
    "This helps us test leapfrog integration, even though this is not a typical use case.\n",
    "\n",
    "---\n",
    "\n",
    "**TIP**: _In the code below, alter the time step_ `Δt` _to see how the estimation accuracy changes._"
   ]
  },
  {
   "cell_type": "code",
   "execution_count": 2,
   "id": "ed61fafd-e752-463c-8dca-a71e84eace25",
   "metadata": {},
   "outputs": [
    {
     "data": {
      "image/png": "[encoded data removed]",
      "text/plain": [
       "<Figure size 640x480 with 1 Axes>"
      ]
     },
     "metadata": {},
     "output_type": "display_data"
    }
   ],
   "source": [
    "# NECESSARY IMPORTS\n",
    "\n",
    "import numpy as np\n",
    "import matplotlib.pyplot as plt\n",
    "\n",
    "#================================================\n",
    "# DEFINING f IN x\" = f(x):\n",
    "\n",
    "f = lambda x: -x\n",
    "\n",
    "#================================================\n",
    "# DEFINING THE INTEGRATOR'S PARAMETERS\n",
    "\n",
    "n_steps = 100         # Number of approximation steps\n",
    "Δt = 0.25             # Step size\n",
    "x = np.empty(n_steps) # Position (i.e. the coordinates of the position)\n",
    "v = np.empty(n_steps) # Velocity (i.e. the velocity vector)\n",
    "\n",
    "#================================================\n",
    "# INITIAL CONDITIONS\n",
    "\n",
    "x[0] = 0\n",
    "v[0] = 1\n",
    "a_new = f(x[0])\n",
    "\n",
    "#================================================\n",
    "# PERFORMING LEAPFROG INTEGRATION\n",
    "\n",
    "for i in range(1, n_steps): # Start with index 1 because index 0 contains the initial values\n",
    "    a_old = a_new\n",
    "    x[i] = x[i-1] + v[i-1]*Δt + 0.5*a_old*Δt**2\n",
    "    a_new = f(x[i])\n",
    "    v[i] = v[i-1] + 0.5*(a_old + a_new)*Δt\n",
    "\n",
    "#================================================\n",
    "# PLOTTING THE RESULTS\n",
    "\n",
    "# NOTE: x is calculated for discrete points of time t as per time steps Δt\n",
    "\n",
    "t = np.arange(0, len(x)*Δt, Δt)\n",
    "plt.plot(t, x, label='Approximated solution', color='orange')\n",
    "plt.plot(t, np.sin(t), linestyle='dotted', label='Exact solution, i.e. sin(t)', color='blue')\n",
    "plt.title('Approximate Solution of x\\\" = -x using Leapfrog')\n",
    "plt.xlabel('t')\n",
    "plt.ylabel('x')\n",
    "plt.legend(loc='center', bbox_to_anchor=(0.5, -0.25))\n",
    "plt.show()"
   ]
  },
  {
   "cell_type": "markdown",
   "id": "79174794-cf4a-42f0-967c-3e765a255de0",
   "metadata": {},
   "source": [
    "### Leapfrog integration for HMC\n",
    "Here, the leapfrom method shall be used to solve Hamiltonian equations.\n",
    "\n",
    "---\n",
    "\n",
    "To obtain the Hamiltonian equations, let us start with the Hamiltonian function (or simply the \"Hamiltonian\"):\n",
    "\n",
    "$H(\\theta, m) = K(m) + V(\\theta) =$ _constant_\n",
    "\n",
    "Here:\n",
    "\n",
    "- We are dealing with a $k$ dimensional space (e.g. the sample space of a models' parameters)\n",
    "- $\\theta$: Position in the $k$ dimensional space; $\\theta = (\\theta_1, \\theta_2 ... \\theta_k)$, where $\\theta_i$ is the $i$-th dimensional coordinate\n",
    "- $m$: Momentum generalised for $k$ dimensions; $m = (m_1, m_2 ... m_k)$, where $m_i$ is the momentum along the $i$-th axis\n",
    "- $K(m)$: System's total kinetic energy (independent of the position $\\theta$)\n",
    "- $V(\\theta)$: System's total potential energy (independent of momentum $m$)\n",
    "\n",
    "---\n",
    "\n",
    "Using the Hamiltonian, we write Hamilton's equations of motion:\n",
    "\n",
    "Equation 1:\n",
    "\n",
    "$\\frac{d \\theta}{dt} = \\frac{\\delta H}{\\delta m} = \\frac{\\delta K}{\\delta m} + \\frac{\\delta V}{\\delta m} = \\frac{\\delta K}{\\delta m}$ (because $\\frac{\\delta V}{\\delta m} = 0$)\n",
    "\n",
    "i.e.\n",
    "\n",
    "$\\frac{d \\theta}{dt} = \\frac{\\delta K}{\\delta m}$\n",
    "\n",
    "Equation 2:\n",
    "\n",
    "$\\frac{dm}{dt} = - \\frac{\\delta H}{\\delta \\theta} = - \\frac{\\delta K}{\\delta \\theta} - \\frac{\\delta V}{\\delta \\theta} = - \\frac{\\delta V}{\\delta \\theta}$ (because $\\frac{\\delta K}{\\delta \\theta} = 0$)\n",
    "\n",
    "i.e.\n",
    "\n",
    "$\\frac{dm}{dt} = - \\frac{\\delta V}{\\delta \\theta}$\n",
    "\n",
    "**NOTE**: _We are using a mechanistic analogy which can be accurately extended to posterior sampling._\n",
    "\n",
    "---\n",
    "\n",
    "We determine the change in the position $\\theta$ according to the momentum $m$, and equation 2 shows that the momentum changes with respect to time by $- \\frac{\\delta V}{\\delta \\theta}$. Hence, starting with an initial momentum, the leapfrog integrator takes steps through time based on the chosen time step $\\Delta t$, and for each step through time, it calculates the change in momentum since the last time step, thus obtaining the new momentum and the position for the next time step. In the context of HMC, each new position $\\theta$ is a new sample from the posterior, and \"time step\" means a sampling step.\n",
    "\n",
    "---\n",
    "\n",
    "> **Reference for the above**: [\"MCMC METHOD 2: Hamiltonian Monte Carlo (HMC)\" from \"Markov chain Monte Carlo (MCMC)\" from _Sampling Methods_ from **Bayesian Inference** from `conceptual-notes`](https://github.com/pranigopu/mastersProject/blob/main/conceptual-notes/bayesian-inference/sampling-methods/markov-chain-monte-carlo-mcmc/hamiltonian-monte-carlo-hmc.md)\n",
    "\n",
    "---\n",
    "\n",
    "The implementation is below is modified from [_Hamiltonian Monte Carlo from scratch_ from **colindcarroll.com**](https://colindcarroll.com/2019/04/11/hamiltonian-monte-carlo-from-scratch/)."
   ]
  },
  {
   "cell_type": "code",
   "execution_count": 11,
   "id": "e5490357-7302-4b9f-abf0-0fe71bb5dcb5",
   "metadata": {},
   "outputs": [],
   "source": [
    "def leapfrog(θ, m, δVδθ, T, Δt):\n",
    "    '''\n",
    "    Leapfrog integrator for Hamiltonian Monte Carlo\n",
    "    ------------------------------------\n",
    "    Parameters\n",
    "    \n",
    "    θ    : Initial position (i.e. coordinates of the initial position)\n",
    "    m    : Momentum (i.e. momentum vector)\n",
    "    δVδθ : Callable that returns the gradient of the \"potential energy\" V\n",
    "    T    : Quantity indicating how long to integrate for\n",
    "    Δt   : Quantity indicating how long each integration step should be\n",
    "    ------------------------------------\n",
    "    NOTE: Why arrays for position and momentum? Because we are dealing with a k-dimensional space (k >= 1).\n",
    "    ------------------------------------\n",
    "    Returns\n",
    "\n",
    "    θ, m : New position and momentum (both are vectors; θ is an array of coordinates, m is a vector)\n",
    "    '''\n",
    "    \n",
    "    θ, m = np.copy(θ), np.copy(m)\n",
    "\n",
    "    m -= Δt * δVδθ(θ)/2            # half step\n",
    "    for _ in range(int(T/Δt) - 1):\n",
    "        θ += Δt * m                # whole step\n",
    "        m -= Δt * δVδθ(θ)          # whole step\n",
    "    θ += Δt * m                    # whole step\n",
    "    m -= Δt * δVδθ(θ)/2            # half step\n",
    "\n",
    "    # Negate momentum at end of trajectory to make the proposal symmetric:\n",
    "    '''\n",
    "    REFERENCE FOR THE ABOVE COMMENT:\n",
    "    MCMC using Hamiltonian dynamics by Radford M. Neal, https://arxiv.org/pdf/1206.1901\n",
    "    '''\n",
    "    return θ, -m"
   ]
  },
  {
   "cell_type": "markdown",
   "id": "b255c9d2-33c7-4581-adf3-d47d5eed4d49",
   "metadata": {},
   "source": [
    "## HMC sampler"
   ]
  },
  {
   "cell_type": "markdown",
   "id": "21a99c14-e0f5-4040-b8ef-f1433b74a6a9",
   "metadata": {},
   "source": [
    "### Mathematical formulation\n",
    "**PRELIMINARY POINT: The goal of using a sampling method**:\n",
    "\n",
    "The whole point of a sampling method is to estimate an unknown distribution. Hence, in practice, when we sample from the posterior, it is because we do not know the posterior. However, due to certain theoretical guarantees in the general MCMC approach (mainly the guarantee that the steady-state transition probabilities of the sampler's Markov chain simulate the posterior distribution; see: [\"Markov chain Monte Carlo (MCMC)\" from this document](#markov-chain-monte-carlo-mcmc)), we have that after a certain number of samples, we begin to draw samples as if from the posterior. Hence, when we say \"sample from the posterior\", we mean that in the way described by the general MCMC approach. How HMC in implements the general MCMC approach is what we shall see now.\n",
    "\n",
    "---\n",
    "\n",
    "Let us first define the following:\n",
    "\n",
    "- $P$, the measure of probability density or mass (depending on context)\n",
    "- $\\theta$, the position, i.e. the sample taken from the posterior\n",
    "- $\\Theta$, the sample space of positions\n",
    "- $p$, the target distribution, i.e. the posterior distribution\n",
    "- $m$, the momentum applied to the imaginary sampler point at position $\\theta$\n",
    "\n",
    "**NOTE**: $\\theta$ _denotes a specific parametrisation of the generalised model which we are trying to fit to the data. Hence, since models are usually parameterised by more than one specific parameter,_ $\\theta$ _is usually a vector of specific parameters._ $\\Theta$ _denotes the hypothesis space, i.e. the set of all possible parametrisations considered by us of the generalised model. Hence, note that_ $\\theta$ _represents a specific model, whereas_ $\\Theta$ _represents the sample space of specific models, each being a specific parametrisation of the generalised model. Also note that if_ $\\theta$ _is k-dimensional (i.e. has k elements, denoting k specific parameters), then_ $\\Theta$ _is a k-dimensional sample space, and consequently, we are dealing with \"positions\" and \"momentum\" in a k-dimensional space._\n",
    "\n",
    "---\n",
    "\n",
    "**What do we need to find?**\n",
    "\n",
    "- $p = P(\\theta|D)$, the target distribution, i.e. the posterior distribution\n",
    "\n",
    "**What do we have available?**\n",
    "\n",
    "- $D$, dataset of observations (from the data-generation process we are trying to model)\n",
    "- $P(D|\\theta)$, the likelihood of dataset $D$ given the model parameterised by $\\theta$\n",
    "- $P(\\theta)$, the prior distribution of $\\theta$ defined before the inference\n",
    "- $P(m)$, the distribution of momentum values chosen by us\n",
    "\n",
    "**What do we know?**\n",
    "\n",
    "- $\\displaystyle P(\\theta|D) = \\frac{P(D|\\theta) P(\\theta)}{\\int_{\\theta' \\in \\Theta} P(\\theta', D) d\\theta'} \\propto P(D|\\theta) P(\\theta)$\n",
    "- $P(\\theta, m) = P(\\theta|D) P(m)$\n",
    "\n",
    "**What we do not know in practice**:\n",
    "\n",
    "- $\\displaystyle \\int_{\\theta' \\in \\Theta} P(\\theta', D) d\\theta'$, the denominator or \"evidence\" in Bayesian inference\n",
    "\n",
    "**NOTE**: _Of course, if we knew the denominator, the posterior_ $p = P(\\theta|D)$ _would already by known._\n",
    "\n",
    "---\n",
    "\n",
    "Why bother with the joint distribution? Because of the following:\n",
    "\n",
    "$P(\\theta, m) = P(\\theta|D) P(m)$\n",
    "\n",
    "$\\implies \\log P(\\theta, m) = \\log (P(\\theta|D) P(m)) = \\log P(\\theta|D) + \\log P(m)$\n",
    "\n",
    "$\\implies - \\log P(\\theta, m) = - \\log P(\\theta|D) - \\log P(m)$\n",
    "\n",
    "The above equation is in the form of a Hamiltonian, where:\n",
    "\n",
    "- $H(\\theta, m) = - \\log P(\\theta, m)$\n",
    "- $K(m) = - \\log P(m)$ (\"kinetic energy\")\n",
    "- $V(\\theta) = - \\log P(\\theta|D)$ (\"potential energy\")\n",
    "\n",
    "---\n",
    "\n",
    "**NOTE**:\n",
    "\n",
    "- Probabilities are always between 0 and 1\n",
    "- Hence, the logarithms of probabilities are always less than or equal to 0\n",
    "- Hence, negative logarithms of probabilities are always $\\geq$ to 0\n",
    "- Hence, the physical motion-based analogy is valid\n",
    "- Hence means that Hamilton's equations of motion will work as intended\n",
    "\n",
    "---\n",
    "\n",
    "**REMINDER**:\n",
    "\n",
    "Hamiltonian's equations are as follows:\n",
    "\n",
    "Equation 1:\n",
    "\n",
    "$\\frac{d \\theta}{dt} = \\frac{\\delta H}{\\delta m} = \\frac{\\delta K}{\\delta m} + \\frac{\\delta V}{\\delta m} = \\frac{\\delta K}{\\delta m}$ (because $\\frac{\\delta V}{\\delta m} = 0$)\n",
    "\n",
    "i.e.\n",
    "\n",
    "$\\frac{d \\theta}{dt} = \\frac{\\delta K}{\\delta m}$\n",
    "\n",
    "Equation 2:\n",
    "\n",
    "$\\frac{dm}{dt} = - \\frac{\\delta H}{\\delta \\theta} = - \\frac{\\delta K}{\\delta \\theta} - \\frac{\\delta V}{\\delta \\theta} = - \\frac{\\delta V}{\\delta \\theta}$ (because $\\frac{\\delta K}{\\delta \\theta} = 0$)\n",
    "\n",
    "i.e.\n",
    "\n",
    "$\\frac{dm}{dt} = - \\frac{\\delta V}{\\delta \\theta}$\n",
    "\n",
    "---\n",
    "\n",
    "We know that $\\displaystyle P(\\theta|D) = \\frac{P(D|\\theta) P(\\theta)}{\\int_{\\theta' \\in \\Theta} P(\\theta', D) d\\theta'}$\n",
    "\n",
    "$\\implies \\log P(\\theta|D) = \\log \\frac{P(D|\\theta) P(\\theta)}{\\int_{\\theta' \\in \\Theta} P(\\theta', D) d\\theta'} = \\log(P(D|\\theta) P(\\theta)) - \\log(\\int_{\\theta' \\in \\Theta} P(\\theta', D) d\\theta')$\n",
    "\n",
    "---\n",
    "\n",
    "For convenience, put $z = \\int_{\\theta' \\in \\Theta} P(\\theta', D) d\\theta'$. Hence:\n",
    "\n",
    "$V(\\theta) = - \\log P(\\theta|D) = - \\log(P(D|\\theta) P(\\theta)) + \\log z$\n",
    "\n",
    "---\n",
    "\n",
    "But note that $z$ marginalises out the position $\\theta$. Hence, $z$ is independent of position $\\theta$.\n",
    "\n",
    "$\\implies \\frac{\\delta V}{\\delta \\theta} = \\frac{\\delta (- \\log(P(D|\\theta) P(\\theta)))}{\\delta \\theta} + 0 = \\frac{\\delta (- \\log(P(D|\\theta) P(\\theta)))}{\\delta \\theta}$\n",
    "\n",
    "**NOTE**: $\\frac{dm}{dt} = - \\frac{\\delta V}{\\delta \\theta} \\implies \\frac{\\delta V}{\\delta \\theta}$ _determines momentum change across time steps (i.e. across sampling steps)._\n",
    "\n",
    "---\n",
    "\n",
    "**What do we need to find?**\n",
    "\n",
    "- The target distribution, i.e. the posterior distribution $p = P(\\theta|D)$\n",
    "\n",
    "**What do we have available?**\n",
    "\n",
    "- $K(m) = - \\log P(m)$, since we already have $P(m)$\n",
    "- $\\frac{\\delta \\theta}{\\delta t} = \\frac{\\delta K}{\\delta m}$, since we already have $K(m)$\n",
    "- $H = - \\log P(\\theta, m)$, since we already have $P(\\theta, m)$\n",
    "- $\\frac{\\delta m}{\\delta t} = - \\frac{\\delta V}{\\delta \\theta}$\n",
    "\n",
    "**What do we know?**\n",
    "\n",
    "- How a body's momentum changes across time depends on how the potential energy acts on the body\n",
    "- As an analogy for the above, imagine the potential energy $V$ as a set of gravitational wells\n",
    "- Hence, after picking $m$, we change it based on $V$\n",
    "- $V = - \\log P(\\theta|D)$ has the same density distribution as $p = P(\\theta|D)$\n",
    "- In other words, the way $V$ acts upon a body emulates the probability densities in $p$\n",
    "- Hence, sampling a body's position across time based on $V$ is the same as sampling from $p$\n",
    "- Hence, samples aggregated from $V$ can be used to estimate $p$\n",
    "\n",
    "---\n",
    "\n",
    "_How can we use what we know/have available to find what we need?_\n",
    "\n",
    "Starting with a randomly sampled momentum value, we can use $\\frac{\\delta m}{\\delta t} = - \\frac{\\delta V}{\\delta \\theta}$ to update the momentum across time steps and thereby travel along the contours of the negative log-probability of the posterior and sample the next positions in similarly high-probability-mass regions as the initial sample (i.e. initial position). Using these samples, we can estimate the target distribution $p$, i.e. the posterior. It is key to note that, as derived before, $\\frac{\\delta V}{\\delta \\theta} = \\frac{\\delta (- \\log(P(D|\\theta) P(\\theta)))}{\\delta \\theta}$, which means the gradient used to update momentum across time steps only depends on what we already know, namely the likelihood $P(D|\\theta)$ and the prior $P(\\theta)$.\n",
    "\n",
    "Note that we can make the proposal after a number of iterations for travelling along the above contour using the chosen momentum — chosen based on $P(m)$ — and if we do so, we can get the proposed sample from a similarly high-probability-mass region of the posterior that is also far from the initial sample. This number of iterations (or alternatively, the time for which we allow the algorithm to travel along the contour) can be picked at random to optimise the algorithm's performance in the long run (reference: [_Michael Betancourt: Scalable Bayesian Inference with Hamiltonian Monte Carlo_ from London Machine Learning Meetup, **YouTube**](https://www.youtube.com/watch?v=jUSZboSq1zg)).\n",
    "\n",
    "---\n",
    "\n",
    "_Hence, we see how HMC allows more efficient exploration of the high-probability-mass region of the posterior, compared to the approaches that explore by diffusing from a starting point over time (e.g. Metropolis-Hastings)._"
   ]
  },
  {
   "cell_type": "markdown",
   "id": "89f93632-88ea-4485-8401-7faea2ed21ae",
   "metadata": {},
   "source": [
    "### Algorithm and practical computation\n",
    "- Initialise current sample as $\\theta_0$\n",
    "- Sample $m$ from $\\text{Normal}(0, \\sigma I)$\n",
    "- Simulate $\\theta_i$ and $m_i$ for some amount of time $T$\n",
    "- Take $\\theta_T$ as our new proposed sample\n",
    "- Use the Metropolis acceptance criterion to accept or reject $\\theta_T$\n",
    "\n",
    "_Why we still need to use the Metropolis acceptance criterion?_ Intuitively, because we can think of HMC as a Metropolis-Hasting algorithm with a better proposal method. But a further numerical justification is that the accept-reject steps help correct for errors introduced by the numerical simulation of the Hamiltonian equations.\n",
    "\n",
    "> **Reference**: [\"11.9.3. Hamiltonian Monte Carlo\" from \"11.9. Inference Methods\" from _11. Appendiceal Topics_ from **Bayesian Computation Notebook**](https://bayesiancomputationbook.com/markdown/chp_11.html#hamiltonian-monte-carlo)\n",
    "\n",
    "---\n",
    "\n",
    "The above algorithm is essentially two key steps (done for each iteration of HMC):\n",
    "\n",
    "**Step 1: Obtain a new momentum**:\n",
    "\n",
    "- A new momentum is randomly drawn from a Gaussian distribution\n",
    "- The momentum is drawn independently of the current momentum and position\n",
    "\n",
    "**NOTE**: _The momentum is always drawn anew from a Gaussian distribution every iteration._\n",
    "\n",
    " **Step 2: Probabilistically update both position and momentum**:\n",
    " \n",
    " - New momentum and position are obtained after a number of simulation steps\n",
    " - The new position is the new proposed sample\n",
    " - Update is \"probabilistic\" due to the Metropolis acceptance criterion\n",
    "\n",
    "**NOTE**: _The new momentum and the new position are used to calculate the new Hamiltonian. This is important, because the difference between the previous Hamiltonian and the new Hamiltonian is needed to obtain the acceptance probability when checking the Metropolis acceptance criterion, as we shall see later._\n",
    "\n",
    "> **Reference**: [_MCMC using Hamiltonian dynamics_ by Radford M. Neal](https://arxiv.org/pdf/1206.1901)\n",
    "\n",
    "---\n",
    "\n",
    "**NOTE**: \"Simulate\" <br>\n",
    "$\\implies$ Simulate the system defined by the Hamiltonian equations <br>\n",
    "$\\implies$ Travelling along the contours as per the momentum\n",
    "\n",
    "#### Metropolis acceptance criterion for HMC\n",
    "> **Reference**: [_MCMC using Hamiltonian dynamics_ by Radford M. Neal](https://arxiv.org/pdf/1206.1901)\n",
    "\n",
    "As stated before, we need to use the Metropolis acceptance criterion for two reasons: (1) intuitively, we can think of HMC as a Metropolis-Hasting algorithm with a better proposal method, and (2) as a further numerical justification, the accept-reject steps help correct for errors introduced by the numerical simulation of the Hamiltonian equations.\n",
    "\n",
    "_But how do we define the Metropolis criterion for HMC?_\n",
    "\n",
    "Note that in the second essential step of the HMC algorithm, Hamiltonian dynamics are used to propose a new position (i.e. a new sample/state). Starting with the current position and momentum $(\\theta, m)$, Hamiltonian dynamics are simulated for a number of steps (e.g. using the Leapfrog method); to be exact, we simulate the trajectory of the point representing the sampler for a number of steps, based on the momenta (as calculated throughout the steps) and the contours of the posterior (or more precisely, the negative log-probability of the posterior). The momentum at the end of this simulated trajectory is then negated (to see why, see the note below), giving a new position and momentum $(\\theta^∗, m^*)$. The new, i.e. proposed position $\\theta^*$ is accepted as the next state of the Markov chain with probability:\n",
    "\n",
    "$\\min [1, e^{H(\\theta, m)−H(\\theta^∗, m^∗)}]$, where:\n",
    "\n",
    "- $H$ is the Hamiltonian, given by $H(\\theta, m) = K(m) + V(\\theta)$\n",
    "- $V$ is analogous to the potential energy in classical mechanics\n",
    "- $K$ is analogous to the kinetic energy in classical mechanics\n",
    "\n",
    "If the proposed state (i.e. position) is not accepted, the next state is the same as the current state.\n",
    "\n",
    "---\n",
    "\n",
    "**Intuition for the above**:\n",
    "\n",
    "We have the following cases:\n",
    "\n",
    "1. $e^{H(\\theta, m)−H(\\theta^∗, m^∗)} \\geq 1 \\implies H(\\theta^∗, m^∗) \\geq H(\\theta, m)$\n",
    "2. $e^{H(\\theta, m)−H(\\theta^∗, m^∗)} \\leq 1 \\implies H(\\theta^∗, m^∗) \\leq H(\\theta, m)$\n",
    "\n",
    "$H(\\theta^∗, m^∗) \\geq H(\\theta, m)$ means the proposed state is from an equal or higher-probability-mass region of the posterior, which means it should always be accepted, because we want to sample more from equal or higher-probability-mass regions. $H(\\theta^∗, m^∗) < H(\\theta, m)$ means the proposed state is from a lower-probability-mass region, which means it should be accepted only probabilistically, with the probability of accepting it being proportional to its closeness to the current state (in terms of probability density), because we want there to be a lower but non-zero chance of sampling from a sparser region region after sampling from a denser region, with the condition that the lower the density, the lower the chance.\n",
    "\n",
    "---\n",
    "\n",
    "**NOTE: How do we calculate**  $H(\\theta, m) − H(\\theta^∗, m^∗)$ **?**\n",
    "\n",
    "In the case of HMC, the Hamiltonian is given by:\n",
    "\n",
    "$H(\\theta, m) = - \\log P(\\theta, m) = - \\log P(\\theta|D) - \\log P(m)$\n",
    "\n",
    "Of course, we do not know $P(\\theta|D)$, since this is the target distribution we want to find. However:\n",
    "\n",
    "$P(\\theta|D) \\propto P(D|\\theta) P(\\theta)$\n",
    "\n",
    "$\\implies - \\log P(\\theta|D) \\propto - \\log(P(D|\\theta) P(\\theta)) = - \\log P(D|\\theta) - \\log P(\\theta)$\n",
    "\n",
    "$\\implies H(\\theta, m) \\propto - \\log P(D|\\theta) - \\log P(\\theta) - \\log P(m)$\n",
    "\n",
    "Likewise, $H(\\theta^*, m^*) \\propto - \\log P(D|\\theta^*) - \\log P(\\theta^*) - \\log P(m^*)$\n",
    "\n",
    "The right-hand side in the above two statements is sufficient for our needs. Why? Consider:\n",
    "\n",
    "Let $P(\\theta|D) = \\frac{P(D|\\theta) P(\\theta)}{z}$ for some normalisation constant $z$\n",
    "\n",
    "$\\implies - \\log P(\\theta|D) = - \\log \\frac{P(D|\\theta) P(\\theta)}{z} = - \\log P(D|\\theta) - \\log P(\\theta) + \\log z$\n",
    "\n",
    "$\\implies H(\\theta, m) = - \\log P(D|\\theta) - \\log P(\\theta) - \\log P(m) + \\log z$\n",
    "\n",
    "Likewise, $H(\\theta^*, m^*) = - \\log P(D|\\theta^*) - \\log P(\\theta^*) - \\log P(m^*) + \\log z$\n",
    "\n",
    "Hence, we get $H(\\theta, m) − H(\\theta^∗, m^∗)$ as follows:\n",
    "\n",
    "$- \\log P(D|\\theta) - \\log P(\\theta) - \\log P(m) + \\log z - (- \\log P(D|\\theta^*) - \\log P(\\theta^*) - \\log P(m^*) + \\log z)$\n",
    "\n",
    "$= - \\log P(D|\\theta) - \\log P(\\theta) - \\log P(m) + \\log z + \\log P(D|\\theta^*) + \\log P(\\theta^*) + \\log P(m^*) - \\log z$\n",
    "\n",
    "$= - \\log P(D|\\theta) - \\log P(\\theta) - \\log P(m) + \\log P(D|\\theta^*) + \\log P(\\theta^*) + \\log P(m^*)$\n",
    "\n",
    "As we can see, the normalisation constant is eliminated, so it has no effect on the acceptance probability.\n",
    "\n",
    "---\n",
    "\n",
    "**NOTE: Why negate the momentum variable after the simulation?**\n",
    "\n",
    "The negation of the momentum at the end of the simulated trajectory makes the Metropolis proposal symmetrical, as needed for the acceptance probability above to be valid (**NOTE**: _I do not get this point_). However, this negation need not be done in practice, since $K(m) = K(−m)$, and since the momentum is always replaced (by randomly sampling it from a Gaussian) in the first step of the next iteration."
   ]
  },
  {
   "cell_type": "markdown",
   "id": "b5348316-23ed-4a3c-9269-89754f43da3b",
   "metadata": {},
   "source": [
    "### Implementation\n",
    "> **References**:\n",
    ">\n",
    "> - [_Hamiltonian Monte Carlo from scratch_ from **colindcarroll.com**](https://colindcarroll.com/2019/04/11/hamiltonian-monte-carlo-from-scratch/)\n",
    "> - [_MCMC using Hamiltonian dynamics_ by Radford M. Neal](https://arxiv.org/pdf/1206.1901)"
   ]
  },
  {
   "cell_type": "code",
   "execution_count": 12,
   "id": "f0771005-f010-4eed-a6de-f0289fe09fed",
   "metadata": {},
   "outputs": [],
   "source": [
    "from autograd import grad\n",
    "import autograd.numpy as np\n",
    "import scipy.stats as st\n",
    "\n",
    "def hamiltonian_monte_carlo(n_samples, negative_log_prob, initial_position, T=1, Δt=0.5):\n",
    "    '''\n",
    "    Run Hamiltonian Monte Carlo sampling.\n",
    "    ------------------------------------\n",
    "    Parameters\n",
    "    \n",
    "    n_samples         : Number of samples to return\n",
    "    negative_log_prob : Callable that returns the negative log probability to sample from\n",
    "    initial_position  : The initial position to start sampling from\n",
    "    T                 : Quantity indicating how long to integrate; smaller is faster and more correlated\n",
    "    Δt                : Quantity indicating how long each integration step should be; smaller is slower and more accurate.\n",
    "    ------------------------------------\n",
    "    Returns\n",
    "\n",
    "    Array of length `n_samples`\n",
    "    '''\n",
    "    \n",
    "    # Using autograd to obtain the required differential:\n",
    "    δVδθ = grad(negative_log_prob)\n",
    "\n",
    "    # Collect all our samples in a list:\n",
    "    samples = [initial_position]\n",
    "\n",
    "    # Keep a single object for momentum resampling:\n",
    "    momentum = st.norm(0, 1) # Keeping σ (sigma) at 1\n",
    "    size = n_samples*initial_position.shape[0]\n",
    "    momentum_samples = momentum.rvs(size=size)\n",
    "    '''\n",
    "    EXPLAINING THE ABOVE THREE LINES:\n",
    "    \n",
    "    Let's say the `initial_position` is a 10-dimensional vector and `n_samples` is 100.\n",
    "    Then, we want 100 x 10 momentum draws (note that this is just an example).\n",
    "    To achieve such functionality, we do one call to `momentum.rvs` and iterate over rows.\n",
    "    '''\n",
    "    \n",
    "    for m in momentum_samples:\n",
    "        # Integrate over our path to get a new position and momentum:\n",
    "        θ_T, m_T = leapfrog(samples[-1], m, δVδθ, T=T, Δt=Δt)\n",
    "        # NOTE: `θ_T` is the proposed position, i.e. proposed sample\n",
    "\n",
    "        # Check Metropolis acceptance criterion:\n",
    "        H_old = negative_log_prob(samples[-1]) - np.sum(momentum.logpdf(m))\n",
    "        H_new = negative_log_prob(θ_T) - np.sum(momentum.logpdf(m_T))\n",
    "        # NOTE: H denotes \"Hamiltonian\"\n",
    "        if np.log(np.random.rand()) < H_old - H_new:\n",
    "            '''\n",
    "            EXPLAINING THE ABOVE CONDITION: See the implementation note below.\n",
    "            '''\n",
    "            samples.append(θ_T)\n",
    "        else:\n",
    "            samples.append(np.copy(samples[-1]))\n",
    "\n",
    "    return np.array(samples[1:])"
   ]
  },
  {
   "cell_type": "markdown",
   "id": "80e0703c-ae68-4472-bce7-761ea055f09b",
   "metadata": {},
   "source": [
    "**IMPLEMENTATION NOTE: Explaining** `if np.log(np.random.rand()) < H_old - H_new`:\n",
    "\n",
    "Note that the Metropolis acceptance probability for HMC is:\n",
    "\n",
    "$min[1, e^{H(\\theta, m) − H(\\theta^∗, m^∗)}]$, where:\n",
    "\n",
    "- $\\theta$: Current position\n",
    "- $m$: Current momentum\n",
    "- $\\theta^*$: Proposed position (after leapfrog integration steps)\n",
    "- $m^*$: New momentum (after leapfrog integration steps)\n",
    "- $H(\\theta, m)$: `H_old`\n",
    "- $H(\\theta^*, m^*)$ = `H_new`\n",
    "\n",
    "But note that:\n",
    "\n",
    "$\\min[1, e^{H(\\theta, m) − H(\\theta^*, m^*)}]$\n",
    "\n",
    "$= \\min[\\log(1), \\log(e^{H(\\theta, m) − H(\\theta^*, m^*)})]$\n",
    "\n",
    "$= \\min[0, H(\\theta, m) − H(\\theta^*, m^*)]$\n",
    "\n",
    "Hence, we see that the condition `if np.log(np.random.rand()) < H_old - H_new` is equivalent to the condition `if np.random.rand() < np.exp(H_old - H_new)`, and both conditions accurately model the acceptance probability $\\min[1, e^{H(\\theta, m) − H(\\theta^∗, m^∗)}]$."
   ]
  },
  {
   "cell_type": "markdown",
   "id": "fcd49517-73f8-4145-b452-725e15fa4491",
   "metadata": {},
   "source": [
    "# 3. Basic Application\n",
    "> **Reference**: [`tfp.mcmc.HamiltonianMonteCarlo` (Tensorflow documentation)](https://www.tensorflow.org/probability/api_docs/python/tfp/mcmc/HamiltonianMonteCarlo)"
   ]
  },
  {
   "cell_type": "markdown",
   "id": "8cd78d64-6955-44e6-9179-0a59ae243c86",
   "metadata": {},
   "source": [
    "## Problem statement\n",
    "We shall aim to estimate the following posterior distribution (given as a probability density function here):\n",
    "\n",
    "$P(\\theta|D) = \\frac{1}{2}e^{-\\theta(1+\\theta)}$, where:\n",
    "\n",
    "- $D$ is the data that conditions the probability of a certain model (i.e. a certain parametrisation) being accurate\n",
    "- $\\theta$ represents a certain parametrisation (i.e. a certain model) under the generalised model used"
   ]
  },
  {
   "cell_type": "markdown",
   "id": "8aed060d-40de-4ddd-b606-60d44de6dd8e",
   "metadata": {},
   "source": [
    "## Approach\n",
    "As seen before, for HMC, we only need to know the unnormalised posterior, which consists of the following:\n",
    "\n",
    "- $P(D|\\theta)$, the likelihood (i.e. the likelihood of $D$ being generated by a certain parametrisation $\\theta$ of the model)\n",
    "- $P(\\theta)$, the prior probability distribution of $\\theta$ (assumed or approximated prior to observing the data $D$)\n",
    "\n",
    "---\n",
    "\n",
    "The above are used to obtain the unnormalised posterior $P(D|\\theta) P(\\theta)$, where $P(\\theta|D) \\propto P(D|\\theta) P(\\theta)$. However, as we have seen, HMC deals specifically with the negative log-probability of the posterior, which is proportional to the negative log-probability of the unnormalised posterior, which is all we need for HMC. In the particular `tensorflow_probability` implementation we are using, we need to pass the target log-probability as an argument (the unnormalised posterior, in our case), so we must pass the actual log-probability of the unnormalised posterior (not the negative of it)."
   ]
  },
  {
   "cell_type": "markdown",
   "id": "25cc0395-8643-47ba-8eb2-2b3ecbd3c11e",
   "metadata": {},
   "source": [
    "## Necessary imports"
   ]
  },
  {
   "cell_type": "code",
   "execution_count": null,
   "id": "4d7e2a2d",
   "metadata": {},
   "outputs": [],
   "source": [
    "import tensorflow as tf\n",
    "import tensorflow_probability as tfp\n",
    "import matplotlib.pyplot as plt"
   ]
  },
  {
   "cell_type": "markdown",
   "id": "66abf686-7c7c-49c2-a763-1bf6b6d4616d",
   "metadata": {},
   "source": [
    "## Defining the target log-probability\n",
    "In the particular `tensorflow_probability` implementation we are using, we need to pass the target log-probability as an argument (the unnormalised posterior, in our case), so we must define $\\log (P(D|\\theta) P(\\theta))$. For this example, we shall omit the definition of the likelihood and prior, and go straight to the expression proportional to the posterior distribution (i.e. our target distribution). In practice, however, this expression would be obtained using well-defined likelihood and prior functions."
   ]
  },
  {
   "cell_type": "code",
   "execution_count": 3,
   "id": "4158e986-a991-4ab2-b80d-15f45ca49f77",
   "metadata": {},
   "outputs": [],
   "source": [
    "# Target distribution is proportional to: `exp(-x (1 + x))`:\n",
    "def unnormalized_log_prob(θ):\n",
    "    return -θ*(1 + θ)"
   ]
  },
  {
   "cell_type": "markdown",
   "id": "b88529bb-6016-4653-aee0-b1ba1348c889",
   "metadata": {},
   "source": [
    "## Setting up the HMC sampler"
   ]
  },
  {
   "cell_type": "code",
   "execution_count": 4,
   "id": "78b8ec61-5aeb-4865-a61c-53c77d89f45f",
   "metadata": {},
   "outputs": [],
   "source": [
    "# Defining key hyperparameters:\n",
    "num_results = int(10e3) # Number of samples to be taken\n",
    "num_burnin_steps = int(1e3) # Number of Markov chain steps (i.e. samples) to consider as \"burn-in\"\n",
    "\n",
    "# Defining an simple step size adaptation transition kernel (explained in the notes below):\n",
    "adaptive_hmc = tfp.mcmc.SimpleStepSizeAdaptation(\n",
    "    # The HMC transition kernel is wrapped within the simple step size adaptation transition kernel:\n",
    "    tfp.mcmc.HamiltonianMonteCarlo(\n",
    "        target_log_prob_fn=unnormalized_log_prob,\n",
    "        num_leapfrog_steps=3,\n",
    "        step_size=1.),\n",
    "    num_adaptation_steps=int(num_burnin_steps * 0.8))"
   ]
  },
  {
   "cell_type": "markdown",
   "id": "48d85d7d-d3ff-40c1-b6a9-b8c834eaa121",
   "metadata": {},
   "source": [
    "**CONCEPTUAL NOTE: Transition kernel (a.k.a. Markov kernel)**:\n",
    "\n",
    "A transition kernel in this context refers to a Markov kernel and pertains to a given Markov chain (note that \"Markov chain\" = \"Markov process\"). A transition kernel of a Markov chain is a function that defines the transitions of the Markov chain. Specificallly, it defines the transition probabilities between states in the Markov chain (as a side note, it is a generalisation of the transition matrix in finite state Markov chains).\n",
    "\n",
    "> **Reference**: [_Markov kernel_, **Wikipedia**](https://en.wikipedia.org/wiki/Markov_kernel)\n",
    "\n",
    "---\n",
    "\n",
    "**TECHNICAL NOTE: `tensorflow_probability.mcmc.TransitionKernel`**:\n",
    "\n",
    "The base class for all MCMC transition kernels (defined above). This class defines the minimal requirements to efficiently implement a Markov chain Monte Carlo (MCMC) transition kernel. A transition kernel returns a new state given some old state (as a side note, it also takes and returns additional information which may be used for (a) debugging or (b) optimisation purposes, i.e, to \"recycle\" previously computed results).\n",
    "\n",
    "> **Reference**: [`tfp.mcmc.TransitionKernel` (Tensorflow documentation)](https://www.tensorflow.org/probability/api_docs/python/tfp/mcmc/TransitionKernel)\n",
    "\n",
    "---\n",
    "\n",
    "**IMPLEMENTATION NOTE: `tensorflow_probability.mcmc.SimpleStepSizeAdaptation`**:\n",
    "\n",
    "It is a subclass of `tensorflow_probability.mcmc.TransitionKernel` that uses a simple policy to adapt the inner kernel's `step_size`, i.e. the size of each transition step from the current state to a proposal state), based on `log_accept_prob`, i.e. the logarithm of the Metropolis acceptance probability (note that logarithms are used since they are more numerically conservative and hence help avoid arithmetic overflow). More precisely, it multiplicatively increases or decreases the `step_size` of the inner kernel based on the value of `log_accept_prob`.\n",
    "\n",
    "> **Reference**: [`tfp.mcmc.SimpleStepSizeAdaptation` (Tensorflow documentation)](https://www.tensorflow.org/probability/api_docs/python/tfp/mcmc/SimpleStepSizeAdaptation)\n",
    "\n",
    "---\n",
    "\n",
    "**TECHNICAL NOTE: `tfp.mcmc.HamiltonianMonteCarlo`**:\n",
    "\n",
    "`tfp.mcmc.HamiltonianMonteCarlo` is a subclass of `tensorflow_probability.mcmc.TransitionKernel`, just as HMC is a subclass of MCMC."
   ]
  },
  {
   "cell_type": "markdown",
   "id": "3da9a94d-17fc-40f2-9c10-af4980347df9",
   "metadata": {},
   "source": [
    "## Running the HMC sampler"
   ]
  },
  {
   "cell_type": "markdown",
   "id": "ebf5e679-eee9-49d1-839a-2b22a8bb775a",
   "metadata": {},
   "source": [
    "Defining the sampling function..."
   ]
  },
  {
   "cell_type": "code",
   "execution_count": 5,
   "id": "2bfe9392-6343-49b4-ab71-9cbdc7b41f06",
   "metadata": {},
   "outputs": [],
   "source": [
    "# Run the chain (with burn-in).\n",
    "@tf.function # This decorator is explained in the notes below\n",
    "def run_chain():\n",
    "    # Run the chain (with burn-in).\n",
    "    samples, is_accepted = tfp.mcmc.sample_chain(\n",
    "        num_results=num_results,\n",
    "        num_burnin_steps=num_burnin_steps,\n",
    "        current_state=1.,\n",
    "        kernel=adaptive_hmc,\n",
    "        trace_fn=lambda _, pkr: pkr.inner_results.is_accepted)\n",
    "\n",
    "    # Calculating summary statistics of the samples for quick and easy reporting and usage:\n",
    "    sample_mean = tf.reduce_mean(samples)\n",
    "    sample_stddev = tf.math.reduce_std(samples)\n",
    "    is_accepted = tf.reduce_mean(tf.cast(is_accepted, dtype=tf.float32))\n",
    "\n",
    "    # Returning the summary statistics of the samples as well as the samples themselves:\n",
    "    return samples, sample_mean, sample_stddev, is_accepted"
   ]
  },
  {
   "cell_type": "markdown",
   "id": "58ecd416-66a5-40d4-b348-e30adb0d47bd",
   "metadata": {},
   "source": [
    "**IMPLEMENTATION NOTE: `@tf.function` decorator**:\n",
    "\n",
    "A tf.function that you define (for example by applying the @tf.function decorator) is just like a core TensorFlow operation: You can execute it eagerly; you can compute gradients; and so on.\n",
    "\n",
    "> **Reference**: [Better performance with `tf.function` (Tensorflow documentation)](https://www.tensorflow.org/guide/function)\n",
    "\n",
    "---\n",
    "\n",
    "Running the sampling process by calling `run_chain`..."
   ]
  },
  {
   "cell_type": "code",
   "execution_count": 6,
   "id": "4732ccab-499d-4f40-82ac-b821381735af",
   "metadata": {},
   "outputs": [],
   "source": [
    "samples, sample_mean, sample_stddev, is_accepted = run_chain()"
   ]
  },
  {
   "cell_type": "markdown",
   "id": "82065f67-27d9-4944-b84a-a33fe2623bb5",
   "metadata": {},
   "source": [
    "## Presenting the results\n",
    "**Key points to keep in mind before interpreting the results**:\n",
    "\n",
    "- In our example, we know our true posterior distribution already, so sampling was done only for demonstration.\n",
    "- In practice, we do not have a true posterior distribution to compare with our sampled (i.e. estimated) posterior.\n",
    "- MCMC sampling estimates the true posterior, i.e. the unnormalised posterior multiplied by the right normalisation constant. <br> **NOTE**: _The right normalisation constant is one that would turn the unnormalised posterior into a true probability measure._"
   ]
  },
  {
   "cell_type": "code",
   "execution_count": 47,
   "id": "a2540ff1-3faf-472a-98fd-250340952496",
   "metadata": {},
   "outputs": [
    {
     "name": "stdout",
     "output_type": "stream",
     "text": [
      "SAMPLING SUMMARY\n",
      "Mean: -0.5265\n",
      "Standard Deviation: 0.7021\n",
      "Acceptance Rate: 0.6351\n",
      "\n"
     ]
    },
    {
     "data": {
      "image/png": "[encoded data removed]",
      "text/plain": [
       "<Figure size 640x480 with 1 Axes>"
      ]
     },
     "metadata": {},
     "output_type": "display_data"
    }
   ],
   "source": [
    "# Printing the summary statistics of the samples obtained:\n",
    "print('SAMPLING SUMMARY')\n",
    "print('Mean: {:.4f}\\nStandard Deviation: {:.4f}\\nAcceptance Rate: {:.4f}\\n'.format(sample_mean.numpy(), sample_stddev.numpy(), is_accepted.numpy()))\n",
    "\n",
    "#------------------------------------\n",
    "# Plotting the sampled (i.e. estimated) and true posterior distributions:\n",
    "plt.hist(samples, bins=50, label='Sampled (i.e. Estimated)', density=True)\n",
    "t = np.linspace(min(samples), max(samples), 1000)\n",
    "plt.plot(t, (1/2)*np.exp(-t*(1+t)), label='True')\n",
    "plt.title('Posterior Distribution')\n",
    "plt.xlabel('$\\\\theta$')\n",
    "plt.ylabel('Probability Density')\n",
    "plt.legend()\n",
    "plt.show()"
   ]
  },
  {
   "cell_type": "markdown",
   "id": "913596ec-1313-458f-8e6d-d0dacc869d79",
   "metadata": {},
   "source": [
    "# 4. HMC for Parameters of a Linear Regression Model"
   ]
  },
  {
   "cell_type": "markdown",
   "id": "7c59d0aa-f1e4-4321-8fa0-a4188e9453b8",
   "metadata": {},
   "source": [
    "## Problem statement\n",
    "Here, we are dealing with a problem of the following form:\n",
    "\n",
    "- Vector of input values $x$ (each element belonging to a particular independent variable)\n",
    "- Target value $y$ (belonging to a dependent variable defined in terms of $x$)\n",
    "- A linear function $f$ defined on $x$ with weights and biases stored in parameter vector $\\theta$, such that $y \\approx f(x, \\theta)$\n",
    "- An random error term to account for the fact that $f(x, \\theta)$ only approximates $y$\n",
    "\n",
    "**NOTE**: $x = (x_1, x_2 ... x_k)$, _where each of_ $x_1, x_2 ... x_k$ _is a value of a particular [covariate](https://www.statology.org/covariate/)._\n",
    "\n",
    "---\n",
    "\n",
    "Hence, we have that:\n",
    "\n",
    "$y = f(x, \\theta) + \\epsilon$\n",
    "\n",
    "---\n",
    "\n",
    "Since $f$ here is defined as a linear function, we have that:\n",
    "\n",
    "$y = wx^T + b + \\epsilon = w_1 x_1 + w_2 x_2 + ... w_k x_k + b + \\epsilon$, where:\n",
    "\n",
    "- $w$ is the row vector of weights, i.e. $w = (w_1, w_2 ... w_k)$\n",
    "- $x$ is the row vector of inputs, i.e. $x = (x_1, x_2 ... x_k)$\n",
    "- $y$ is the output, i.e. the target variable's value\n",
    "- $b$ is the bias term (a single value)\n",
    "- Hence, the parameter vector is given by $\\theta = (w_1, w_2 ... w_k, b)$\n",
    "\n",
    "---\n",
    "\n",
    "Our goal is to estimate the posterior distribution of $\\theta = (w_1, w_2 ... w_k, b)$ using HMC sampling."
   ]
  },
  {
   "cell_type": "markdown",
   "id": "e5fa4ecc-10c7-4d59-bc2b-9f503b35590c",
   "metadata": {},
   "source": [
    "## Necessary imports and setup"
   ]
  },
  {
   "cell_type": "code",
   "execution_count": 5,
   "id": "790caf0a-874d-4cf8-b220-1a80ae62dd85",
   "metadata": {},
   "outputs": [],
   "source": [
    "import tensorflow as tf\n",
    "import tensorflow_probability as tfp\n",
    "import numpy as np\n",
    "import matplotlib.pyplot as plt\n",
    "\n",
    "# To enable quick execution:\n",
    "tf.compat.v1.enable_eager_execution()\n",
    "# NOTE: Eager execution is the default in `tensorflow`\n",
    "\n",
    "# To handle statistical distributions:\n",
    "tfd = tfp.distributions"
   ]
  },
  {
   "cell_type": "markdown",
   "id": "fa1f2998-117f-4c4c-924c-0aa162e54a9c",
   "metadata": {},
   "source": [
    "## Generating synthetic regression data\n",
    "For this demonstration, we shall be using synthetic regression data. Note the following:\n",
    "\n",
    "- The data is generated using a linear model $f(x, \\theta)$\n",
    "- There are `dims` independent variables, i.e. $x = (x_1, x_2 ... x_{\\text{dims}})$\n",
    "- Hence, we also have that the weights vector $w = (w_1, w_2 ... w_{\\text{dims}})$\n",
    "- There is no bias term; hence, $\\theta = w$\n",
    "\n",
    "---\n",
    "\n",
    "Furthermore, we have the following:\n",
    "\n",
    "**1. The true distribution of weights**\n",
    "\n",
    "$w \\sim \\text{MultivariateNormal}(\\mu, \\sigma I)$, where:\n",
    "\n",
    "- $\\mu \\in \\mathbb{R}^{\\text{dims}}$ is the vector of the means of each weight\n",
    "- $\\sigma \\in \\mathbb{R}$ is the true scale of the weights' distribution\n",
    "- $I$ is the identity matrix\n",
    "\n",
    "**2. The true distribution of the noise term**\n",
    "\n",
    "$\\epsilon \\sim \\text{Normal}(0, 1)$\n",
    "\n",
    "---\n",
    "\n",
    "More precisely, we put the following:\n",
    "\n",
    "- $\\text{dims} = 10$, i.e. there are 10 independent variables\n",
    "- $\\mu = (0, 0 ... 0)$, i.e. the mean of each weight is 0\n",
    "- $\\sigma = 0.3$"
   ]
  },
  {
   "cell_type": "code",
   "execution_count": 6,
   "id": "bd089601-89ae-4af1-9b3b-15bb9464de16",
   "metadata": {},
   "outputs": [],
   "source": [
    "# Settings for the synthetic data:\n",
    "num_samples = 500\n",
    "dims = 10\n",
    "true_sigma = 0.3 # True scale of the weights' distribution; unknown and inaccessible to the HMC sampler\n",
    "\n",
    "x = np.random.rand(dims, num_samples) # Randomly drawing independent variable values\n",
    "w = true_sigma*np.random.randn(1, dims) # => w ~ MultivariateNormal(0, σI); this is unknown and inaccessible to the HMC sampler\n",
    "ε = np.random.randn(num_samples) # => ε ~ Normal(0, 1); this is known and accessible by the likelihood function\n",
    "y = w.dot(x) + ε\n",
    "\n",
    "# Squeezing `w` and `y`to remove excess dimensions:\n",
    "w = w.squeeze()\n",
    "y = y.squeeze()"
   ]
  },
  {
   "cell_type": "markdown",
   "id": "74ab9783-3263-4d6a-9eb0-1a8a2cccdb20",
   "metadata": {},
   "source": [
    "Note that in practice, `true_sigma` should be unknown the the HMC sampler, since the true distribution of the weights is exactly what HMC aims to find, which means HMC presupposes that the true distribution of the weights is unknown. Of course, we are dealing with a demonstration that uses synthetic data, so for demonstrative purposes, we do in fact know the distribution of the weights. But in practice, of course, we expect this to be unknown to us to begin with.\n",
    "\n",
    "---\n",
    "\n",
    "Some visualisation..."
   ]
  },
  {
   "cell_type": "code",
   "execution_count": 7,
   "id": "f3e2aacd-9b4d-4a39-95b9-770414ca3a05",
   "metadata": {},
   "outputs": [
    {
     "data": {
      "image/png": "[encoded data removed]",
      "text/plain": [
       "<Figure size 640x480 with 1 Axes>"
      ]
     },
     "metadata": {},
     "output_type": "display_data"
    }
   ],
   "source": [
    "plt.scatter(range(len(y)), y, s=5)\n",
    "plt.title('Spread of the Target Value')\n",
    "plt.xlabel('Iteration')\n",
    "plt.ylabel('y')\n",
    "plt.show()"
   ]
  },
  {
   "cell_type": "markdown",
   "id": "37d21bfb-2fe8-48c0-a5d0-53f3c6ebb340",
   "metadata": {},
   "source": [
    "## Defining the prior and likelihood\n",
    "**Prior**:\n",
    "\n",
    "We define the prior as $P(\\theta) = \\text{MultivariateNormal}(0, I)$, where $I$ is the identity matrix.\n",
    "\n",
    "---\n",
    "\n",
    "**Likelihood**:\n",
    "\n",
    "What about the likelihood? We can show that, given $\\epsilon \\sim \\text{Normal}(0, 1)$, $y$ is distributed as follows:\n",
    "\n",
    "$y \\sim \\text{Normal}(wx^T, 1)$, where:\n",
    "\n",
    "- $w$ is the row vector of weights, i.e. $w = (w_1, w_2 ... w_k)$\n",
    "- $x$ is the row vector of inputs, i.e. $x = (x_1, x_2 ... x_k)$\n",
    "- $y$ is the output, i.e. the target variable's value\n",
    "\n",
    "Hence, the likelihood _density_ of getting $y$ given input $x$ and parameterisation $\\theta$ is given by $\\text{Normal}(wx^T, 1)(y)$.\n",
    "\n",
    "**NOTE**: _We can only use density, because_ $y$ _is distributed across a continuous range, which means point-wise probability mass is always 0._\n",
    "\n",
    "---\n",
    "\n",
    "Function definitions..."
   ]
  },
  {
   "cell_type": "code",
   "execution_count": 17,
   "id": "00ecf1bc-49c1-45be-b68b-4eb5eb23f3b1",
   "metadata": {},
   "outputs": [],
   "source": [
    "def make_weights_prior(dims, log_sigma):\n",
    "    return tfd.MultivariateNormalDiag(loc=tf.zeros([dims]), scale_diag=tf.math.exp(log_sigma)*tf.ones([dims]))\n",
    "\n",
    "def make_response_likelihood(w, x):\n",
    "    if w.shape.ndims == 1:\n",
    "        y_bar = tf.matmul(w[tf.newaxis], x)[0]\n",
    "    else:\n",
    "        y_bar = tf.matmul(w, x)\n",
    "    return tfd.Normal(loc=y_bar, scale=tf.ones_like(y_bar))"
   ]
  },
  {
   "cell_type": "markdown",
   "id": "c6668589-7e03-432f-b8ef-3f22bea602bf",
   "metadata": {},
   "source": [
    "**NOTE**: _The above functions return a distribution object and not a probability or log-probability value._"
   ]
  },
  {
   "cell_type": "markdown",
   "id": "d7592a75-440e-4a16-8980-f7a383da2b07",
   "metadata": {},
   "source": [
    "## Setting up the HMC sampler"
   ]
  },
  {
   "cell_type": "code",
   "execution_count": 18,
   "id": "c2728abd-c154-4483-a611-24128f8ed26a",
   "metadata": {},
   "outputs": [],
   "source": [
    "# Setup assumptions:\n",
    "dtype = np.float32\n",
    "num_samples = 500\n",
    "dims = 10\n",
    "tf.random.set_seed(10014)\n",
    "np.random.seed(10014)\n",
    "\n",
    "# The variable to optimise:\n",
    "log_sigma = tf.Variable(0., dtype=dtype, name='log_sigma')\n",
    "# Why \"log\"? See the note below.\n",
    "\n",
    "# Optimiser:\n",
    "optimizer = tf.optimizers.SGD(learning_rate=0.01)"
   ]
  },
  {
   "cell_type": "markdown",
   "id": "c43c7621-b0af-4a1e-8c57-2e7de8d38019",
   "metadata": {},
   "source": [
    "**IMPLEMENTATION NOTE: Why use `log_sigma`?**\n",
    "\n",
    "We want the posterior distribution of the weights $w$. Now, observe that $\\sigma$ (sigma) is the scale of weights' distribution, and is the only parameter of the weights' distribution that is yet unknown (we assume that the mean is given as zero; see the side note below). Hence, optimising $\\sigma$ is the key to accurately estimating the posterior distribution of $w$. Now, note that optimising $\\sigma$ is equivalent to optimising $\\log \\sigma$, and since logarithms are more numerically conservative (thus helping avoid arithmetical overflow), we shall optimise $\\log \\sigma$, denotes by the identifier `log_sigma`.\n",
    "\n",
    "**SIDE NOTE**: _As a side note, we take for granted that the mean of the weights is zero, but if we did not take it for granted, we would have to optimise the mean as well; but we take it for granted to make our task easier for the purpose of demonstration._\n",
    "\n",
    "---\n",
    "\n",
    "Defining the sampling function..."
   ]
  },
  {
   "cell_type": "code",
   "execution_count": 19,
   "id": "27292cf1-a317-4e2f-9609-ef37c9b26c63",
   "metadata": {},
   "outputs": [],
   "source": [
    "@tf.function\n",
    "def mcem_iter(weights_chain_start, step_size): # MCEM = Monte Carlo Expectation Maximisation\n",
    "    with tf.GradientTape() as tape:\n",
    "        tape.watch(log_sigma)\n",
    "        prior = make_weights_prior(dims, log_sigma)\n",
    "\n",
    "        # Necessary function to pass as an argument to the HMC kernel:\n",
    "        def unnormalized_posterior_log_prob(w):\n",
    "            likelihood = make_response_likelihood(w, x)\n",
    "            return (prior.log_prob(w) + tf.reduce_sum(likelihood.log_prob(y), axis=-1))\n",
    "\n",
    "        # Function to keep track of the sampling process, for reporting purposes:\n",
    "        def trace_fn(_, pkr):\n",
    "            return (pkr.inner_results.log_accept_ratio,\n",
    "                  pkr.inner_results.accepted_results.target_log_prob,\n",
    "                  pkr.inner_results.accepted_results.step_size)\n",
    "\n",
    "        # Sampling a few times using HMC to estimate a target log-probability for optimising `log_sigma`:\n",
    "        num_results = 2 # Number of samples we want to draw using HMC before optimising `log_sigma` and retrying\n",
    "        weights, (log_accept_ratio, target_log_prob, step_size) = tfp.mcmc.sample_chain(\n",
    "            num_results=num_results,\n",
    "            num_burnin_steps=0,\n",
    "            current_state=weights_chain_start,\n",
    "            kernel=tfp.mcmc.SimpleStepSizeAdaptation(\n",
    "                tfp.mcmc.HamiltonianMonteCarlo(\n",
    "                    target_log_prob_fn=unnormalized_posterior_log_prob,\n",
    "                    num_leapfrog_steps=2,\n",
    "                    step_size=step_size,\n",
    "                    state_gradients_are_stopped=True),\n",
    "                # Adapt for the entirety of the trajectory:\n",
    "                num_adaptation_steps=2),\n",
    "            trace_fn=trace_fn,\n",
    "            seed=123)\n",
    "        \n",
    "        # We do an optimization step to propagate `log_sigma` after two HMC steps to propagate `weights`:\n",
    "        loss = -tf.reduce_mean(target_log_prob)\n",
    "        \n",
    "    avg_acceptance_ratio = tf.math.exp(tfp.math.reduce_logmeanexp(tf.minimum(log_accept_ratio, 0.)))\n",
    "    optimizer.apply_gradients([[tape.gradient(loss, log_sigma), log_sigma]])\n",
    "    weights_prior_estimated_scale = tf.math.exp(log_sigma)\n",
    "    return (weights_prior_estimated_scale, weights[-1], loss, step_size[-1], avg_acceptance_ratio)"
   ]
  },
  {
   "cell_type": "markdown",
   "id": "94a3686d-822f-457e-8566-f36c77cab616",
   "metadata": {},
   "source": [
    "**Explaining the above**:\n",
    "\n",
    "Notice that unlike the previous use-case, where we obtained the sampled (i.e. estimated) posterior distribution of a model parameter, in this case, in every call of `mcem_iter`, we are resetting the prior based on $\\log \\sigma$ only running HMC to get two samples before optimising the parameter $\\log \\sigma$ for the next call of `mcem_iter`. Our aim here is not to get a sampled posterior distribution of the weights, but rather, to optimise $\\log \\sigma$ with the help of the estimated target log-probability derived from samples drawn using HMC. By optimising $\\log \\sigma$, we optimise $\\sigma$, which in turn parameterises the multivariate normal distribution of the weights. Hence, by optimising $\\sigma$, we are in fact approaching the true distribution of the weights. This is an indirect utilisation of MCMC sampling, wherein we try not to estimate the posterior through direct samples, but rather, through the optimisation of the unknown parameter of the posterior, which is done is done using MCMC samples."
   ]
  },
  {
   "cell_type": "markdown",
   "id": "9eafe66e-b15e-4a12-94e5-764fd6fa0e7b",
   "metadata": {},
   "source": [
    "## Running the HMC sampler"
   ]
  },
  {
   "cell_type": "code",
   "execution_count": 20,
   "id": "7e7cb6bb-fb2e-4b0d-8933-3500d3767262",
   "metadata": {},
   "outputs": [],
   "source": [
    "# Number of iterations to run for, i.e. number of samples to take:\n",
    "num_iters = int(40)\n",
    "\n",
    "weights_prior_estimated_scale_ = np.zeros(num_iters, dtype)\n",
    "weights_ = np.zeros([num_iters + 1, dims], dtype)\n",
    "loss_ = np.zeros([num_iters], dtype)\n",
    "weights_[0] = np.random.randn(dims).astype(dtype)\n",
    "step_size_ = 0.03\n",
    "\n",
    "for iter_ in range(num_iters):\n",
    "    [\n",
    "      weights_prior_estimated_scale_[iter_],\n",
    "      weights_[iter_ + 1],\n",
    "      loss_[iter_],\n",
    "      step_size_,\n",
    "      avg_acceptance_ratio_,\n",
    "    ] = mcem_iter(weights_[iter_], step_size_)\n",
    "    tf.compat.v1.logging.vlog(\n",
    "    1, ('iter:{:>2}  loss:{: 9.3f}  scale:{:.3f} \\t step_size:{:.4f}  avg_acceptance_ratio:{:.4f}').format(\n",
    "          iter_, loss_[iter_], weights_prior_estimated_scale_[iter_],\n",
    "          step_size_, avg_acceptance_ratio_))"
   ]
  },
  {
   "cell_type": "markdown",
   "id": "4c852df1-f898-4d53-ae4c-1aea4850e8b4",
   "metadata": {},
   "source": [
    "## Presenting the results"
   ]
  },
  {
   "cell_type": "markdown",
   "id": "8ab8cf7e-4d9d-43ea-a572-082e93012c3c",
   "metadata": {},
   "source": [
    "Summary statistics..."
   ]
  },
  {
   "cell_type": "code",
   "execution_count": 21,
   "id": "8d88fce9-1312-41cc-89a1-c7f1168219d5",
   "metadata": {},
   "outputs": [
    {
     "name": "stdout",
     "output_type": "stream",
     "text": [
      "SUMMARY STATISTICS:\n",
      "w0: Mean =  0.2732 | Standard Deviation = 0.1361\n",
      "w1: Mean =  0.4607 | Standard Deviation = 0.1368\n",
      "w2: Mean =  0.0897 | Standard Deviation = 0.6836\n",
      "w3: Mean = -0.2101 | Standard Deviation = 0.0840\n",
      "w4: Mean = -0.1521 | Standard Deviation = 0.0900\n",
      "w5: Mean = -0.2243 | Standard Deviation = 0.2988\n",
      "w6: Mean = -0.2251 | Standard Deviation = 0.1514\n",
      "w7: Mean =  0.6627 | Standard Deviation = 0.2645\n",
      "w8: Mean = -0.1942 | Standard Deviation = 0.5490\n",
      "w9: Mean =  0.0315 | Standard Deviation = 0.2327\n",
      "\n",
      "Average Acceptance Rate: 0.5896\n"
     ]
    }
   ],
   "source": [
    "print('SUMMARY STATISTICS:')\n",
    "mean_weights = np.mean(weights_, axis=0)\n",
    "stddev_weights = np.std(weights_, axis=0)\n",
    "\n",
    "for i in range(dims):\n",
    "    sign = {True:'-', False:' '}[mean_weights[i] < 0] # Just for formatting the output\n",
    "    print(f'w{i}: Mean = {sign}{abs(mean_weights[i]):.4f} | Standard Deviation = {stddev_weights[i]:.4f}')\n",
    "print(f'\\nAverage Acceptance Rate: {avg_acceptance_ratio_:.4f}')"
   ]
  },
  {
   "cell_type": "markdown",
   "id": "ad85b50b-12bc-44e1-b95c-f2bd00938345",
   "metadata": {},
   "source": [
    "**NOTE**: _We give the average acceptance rate because HMC sampling was redone from a new prior in every call of `mcem_iter`._\n",
    "\n",
    "---\n",
    "\n",
    "Plotting the convergence of $\\sigma$ across the iterations..."
   ]
  },
  {
   "cell_type": "code",
   "execution_count": 22,
   "id": "c59d131b-bcd2-4a23-803d-b90e5a5770ba",
   "metadata": {},
   "outputs": [
    {
     "data": {
      "image/png": "[encoded data removed]",
      "text/plain": [
       "<Figure size 640x480 with 1 Axes>"
      ]
     },
     "metadata": {},
     "output_type": "display_data"
    }
   ],
   "source": [
    "plt.plot(weights_prior_estimated_scale_)\n",
    "plt.title('Optimising the Estimated Scale of the Weights\\' Distribution ($\\\\sigma$)')\n",
    "plt.ylabel('$\\\\sigma$')\n",
    "plt.xlabel('MCEM iteration') # NOTE: MCEM = Monte Carlo Expectation Maximisation\n",
    "plt.show()"
   ]
  },
  {
   "cell_type": "markdown",
   "id": "d0bcf48e-52a8-462d-894f-0e5c50ba9ba7",
   "metadata": {},
   "source": [
    "# 5. HMC for sampling a high-dimensional parameter\n",
    "> **Reference**: [`tfp.mcmc.sample_chain` (Tensorflow documentation)](https://www.tensorflow.org/probability/api_docs/python/tfp/mcmc/sample_chain)\n",
    "\n",
    "---\n",
    "\n",
    "So far, we have only seen posterior distributions of single weights. Now, we shall see how to sample from the posterior distribution of a high-dimensional parameter, i.e. a parameter with multiple weights. This is relevant for applying HMC to a neural network's weights, which is my ultimate goal in learning about HMC."
   ]
  },
  {
   "cell_type": "markdown",
   "id": "2f913630-be30-4cfa-bf26-bebd7edeaeb8",
   "metadata": {},
   "source": [
    "## Necessary imports"
   ]
  },
  {
   "cell_type": "code",
   "execution_count": 6,
   "id": "09f08b07-1113-4620-8717-ebbdd99f1527",
   "metadata": {},
   "outputs": [],
   "source": [
    "import tensorflow as tf\n",
    "import tensorflow_probability as tfp\n",
    "import numpy as np\n",
    "tfd = tfp.distributions"
   ]
  },
  {
   "cell_type": "markdown",
   "id": "3ca181d9-f35c-4819-af4f-492e20883f13",
   "metadata": {},
   "source": [
    "## Running the sampler"
   ]
  },
  {
   "cell_type": "code",
   "execution_count": 3,
   "id": "6953072e-3fab-4c96-b975-da50b3b15d2e",
   "metadata": {},
   "outputs": [],
   "source": [
    "# Some arrays for later inspection (not relevant to the sampling):\n",
    "thetas, log_likelihoods, max_storage = [], [], 50\n",
    "\n",
    "# Defining the target probability function:\n",
    "dims = 10\n",
    "true_stddev = tf.sqrt(tf.linspace(1., 3., dims))\n",
    "likelihood = tfd.MultivariateNormalDiag(loc=0., scale_diag=true_stddev)\n",
    "def target_prob_fn(theta):\n",
    "    # Storing values to be inspected later:\n",
    "    if max_storage < 50: # To limit the storage of values to be inspected later\n",
    "        thetas.append(theta)\n",
    "        log_likelihoods.append(likelihood.log_prob(theta))\n",
    "        max_storage += 1\n",
    "\n",
    "    # Returning the likelihood:\n",
    "    return likelihood.log_prob(theta)\n",
    "\n",
    "'''\n",
    "NOTE: For the above, passing `likelihood` to `target_log_prob_fn` below is sufficient.\n",
    "But because I wanted to store values to inspect later, I wrap it in the above function.\n",
    "'''\n",
    "\n",
    "# Running the sample chain:\n",
    "states = tfp.mcmc.sample_chain(\n",
    "    num_results=500,\n",
    "    num_burnin_steps=250,\n",
    "    current_state=tf.zeros(dims),\n",
    "    kernel=tfp.mcmc.HamiltonianMonteCarlo(\n",
    "        target_log_prob_fn=target_prob_fn,\n",
    "        step_size=0.5,\n",
    "        num_leapfrog_steps=2),\n",
    "    trace_fn=None)"
   ]
  },
  {
   "cell_type": "markdown",
   "id": "03a5d121-1c6b-4985-b023-05271ef4cf9b",
   "metadata": {},
   "source": [
    "## Presenting the obtained samples"
   ]
  },
  {
   "cell_type": "markdown",
   "id": "6af3c845-e5c8-4724-a79c-9b7255bfb682",
   "metadata": {},
   "source": [
    "Obtaining and presenting sample mean and standard deviation..."
   ]
  },
  {
   "cell_type": "code",
   "execution_count": 31,
   "id": "d1a42379-4eb1-43c1-b86d-a5962bbb9470",
   "metadata": {},
   "outputs": [
    {
     "name": "stdout",
     "output_type": "stream",
     "text": [
      "sample mean: tf.Tensor(\n",
      "[-0.09911468 -0.08771215  0.27116138 -0.02249406  0.08820967  0.12641178\n",
      "  0.00938834  0.11089953 -0.22857717 -0.05526808], shape=(10,), dtype=float32)\n",
      "\n",
      "sample stddev: tf.Tensor(\n",
      "[-0.09911468 -0.08771215  0.27116138 -0.02249406  0.08820967  0.12641178\n",
      "  0.00938834  0.11089953 -0.22857717 -0.05526808], shape=(10,), dtype=float32)\n"
     ]
    }
   ],
   "source": [
    "sample_mean = tf.reduce_mean(states, axis=0) # Approximately all zeros\n",
    "sample_stddev = tf.sqrt(tf.reduce_mean(tf.math.squared_difference(states, sample_mean), axis=0)) # Approximately = `true_stddev`\n",
    "\n",
    "print('sample mean:', sample_mean)\n",
    "print('\\nsample stddev:', sample_mean)"
   ]
  },
  {
   "cell_type": "markdown",
   "id": "529f7b4b-7979-4eb0-8877-ebb15816a084",
   "metadata": {},
   "source": [
    "Checking sampled states..."
   ]
  },
  {
   "cell_type": "code",
   "execution_count": 29,
   "id": "df90a96a-6990-47f8-abde-9a9a164bc548",
   "metadata": {},
   "outputs": [
    {
     "name": "stdout",
     "output_type": "stream",
     "text": [
      "Shape of the array of sampled states obtained: (500, 10)\n",
      "\n",
      "theta: tf.Tensor(\n",
      "[-0.2208701   1.2989653  -0.67676055 -0.9347783  -0.3518006  -1.9374292\n",
      " -1.7002003   0.2895801  -1.7173626   0.9078449 ], shape=(10,), dtype=float32)\n",
      "\n",
      "log-likelihood: tf.Tensor(-15.734713, shape=(), dtype=float32)\n"
     ]
    }
   ],
   "source": [
    "print('Shape of the array of sampled states obtained:', states.shape)\n",
    "\n",
    "# Inspecting a random theta and log-likelihood obtained during sampling:\n",
    "pick = np.random.choice(max_storage)\n",
    "print('\\ntheta:', thetas[pick])\n",
    "print('\\nlog-likelihood:', log_likelihoods[pick])"
   ]
  }
 ],
 "metadata": {
  "kernelspec": {
   "display_name": "Python 3 (ipykernel)",
   "language": "python",
   "name": "python3"
  },
  "language_info": {
   "codemirror_mode": {
    "name": "ipython",
    "version": 3
   },
   "file_extension": ".py",
   "mimetype": "text/x-python",
   "name": "python",
   "nbconvert_exporter": "python",
   "pygments_lexer": "ipython3",
   "version": "3.11.9"
  }
 },
 "nbformat": 4,
 "nbformat_minor": 5
}

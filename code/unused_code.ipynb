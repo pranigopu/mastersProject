{
 "cells": [
  {
   "cell_type": "markdown",
   "id": "feff7a10-af5f-42eb-ad26-371aa3dd530c",
   "metadata": {},
   "source": [
    "Code previously used in `mcmc_for_neural_networks` to plot the results for section 1..."
   ]
  },
  {
   "cell_type": "code",
   "execution_count": null,
   "id": "873fa682-5a86-462e-a75f-96d2d0cccf51",
   "metadata": {},
   "outputs": [],
   "source": [
    "# Setting the plot size and font size:\n",
    "fontsize = 15\n",
    "fig = plt.figure(figsize=(10, 4))\n",
    "\n",
    "# Plotting the estimated, i.e. sampled posterior:\n",
    "ax1 = fig.add_subplot(111)\n",
    "ax1.hist(plot_points,  bins = 20, color='C0', alpha=0.7, label='Sampled Posterior')\n",
    "ax1.set_xlim(ax1.get_xlim())\n",
    "\n",
    "# Plotting the true posterior:\n",
    "ax2 = ax1.twinx()\n",
    "ax2.grid(False)\n",
    "ax2.plot(true_posterior[:,0], true_posterior[:,1], linewidth=2, color='C1', label='True Posterior')\n",
    "ax2.set_ylim(0, ax2.get_ylim()[1])\n",
    "ax2.set_ylabel('Density', fontsize = fontsize)\n",
    "\n",
    "# Final plot display:\n",
    "ax1.set_ylabel('Frequency', fontsize = fontsize, labelpad=10)\n",
    "ax1.set_xlabel('Parameter value', fontsize = fontsize, labelpad=10)\n",
    "ax1.set_title('Posterior', fontsize = fontsize, pad=10)\n",
    "lgd = plt.legend(bbox_to_anchor=(1.25,0.5), loc='center left')\n",
    "fig.tight_layout()\n",
    "plt.show()"
   ]
  }
 ],
 "metadata": {
  "kernelspec": {
   "display_name": "Python 3 (ipykernel)",
   "language": "python",
   "name": "python3"
  },
  "language_info": {
   "codemirror_mode": {
    "name": "ipython",
    "version": 3
   },
   "file_extension": ".py",
   "mimetype": "text/x-python",
   "name": "python",
   "nbconvert_exporter": "python",
   "pygments_lexer": "ipython3",
   "version": "3.11.9"
  }
 },
 "nbformat": 4,
 "nbformat_minor": 5
}
